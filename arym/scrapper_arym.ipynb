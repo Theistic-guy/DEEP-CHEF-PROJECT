{
 "cells": [
  {
   "cell_type": "code",
   "execution_count": 3,
   "metadata": {},
   "outputs": [],
   "source": [
    "import requests\n",
    "import pandas as pd\n",
    "import json\n",
    "import re\n",
    "from bs4 import BeautifulSoup\n",
    "import os\n",
    "from google_images_download import google_images_download\n",
    "import shutil"
   ]
  },
  {
   "cell_type": "code",
   "execution_count": 2,
   "metadata": {},
   "outputs": [],
   "source": [
    "# No current use\n",
    "def fetchAndSave(url,path):\n",
    "    r = requests.get(url)\n",
    "    with open(path,\"w\") as f:\n",
    "        f.write(r.text)\n"
   ]
  },
  {
   "cell_type": "code",
   "execution_count": 4,
   "metadata": {},
   "outputs": [],
   "source": [
    "food = open(\"food_arym.html\",\"r\",encoding=\"utf8\")\n",
    "soup = BeautifulSoup(food,\"html.parser\")"
   ]
  },
  {
   "cell_type": "code",
   "execution_count": 5,
   "metadata": {},
   "outputs": [],
   "source": [
    "tiles= soup.find_all(class_=\"tile-content\")"
   ]
  },
  {
   "cell_type": "code",
   "execution_count": 20,
   "metadata": {},
   "outputs": [],
   "source": [
    "names = []\n",
    "recipies = []\n",
    "for item in tiles:\n",
    "    h2 = item.h2\n",
    "    names.append(h2.get_text())\n",
    "    recipies.append(h2.a.get(\"href\"))"
   ]
  },
  {
   "cell_type": "code",
   "execution_count": 19,
   "metadata": {},
   "outputs": [],
   "source": [
    "df = pd.DataFrame()\n",
    "df['name'] = names\n",
    "df['links'] = recipies"
   ]
  },
  {
   "cell_type": "code",
   "execution_count": 90,
   "metadata": {},
   "outputs": [],
   "source": [
    "# old code - orginial source\n",
    "# new_df = pd.read_csv(\"../ADITI/recipes.csv\")"
   ]
  },
  {
   "cell_type": "code",
   "execution_count": 54,
   "metadata": {},
   "outputs": [
    {
     "name": "stdout",
     "output_type": "stream",
     "text": [
      "I Can't Wait for Chole\n",
      "I Love Palak Paneer (Spinach and Cheese Curry)\n"
     ]
    }
   ],
   "source": [
    "# old code\n",
    "# flagged_indexes = []\n",
    "# for i in new_df.index:\n",
    "#     if(((new_df['name'][i]).strip())[:2] == \"I \"):\n",
    "#         flagged_indexes.append(i)\n",
    "#         print(new_df['name'][i])    "
   ]
  },
  {
   "cell_type": "code",
   "execution_count": 91,
   "metadata": {},
   "outputs": [],
   "source": [
    "# olc code\n",
    "# new_df.loc[flagged_indexes[0],\"name\"] = \"Chole\"\n",
    "# new_df.loc[flagged_indexes[1],\"name\"] = \"Palak Paneer\""
   ]
  },
  {
   "cell_type": "code",
   "execution_count": 62,
   "metadata": {},
   "outputs": [],
   "source": [
    "# writing apostrophe s type names in corrected_names.txt file with row index , current name and part of name after apostrophe\n",
    "\n",
    "# with open(\"Corrected_names.txt\",\"a\") as f:\n",
    "#     for i in new_df.index:\n",
    "#         name = new_df.loc[i,'name']\n",
    "#         find_pos = name.find(\"'s\")\n",
    "#         if(find_pos != -1):\n",
    "#             f.write(str(i) + \" \"+name.strip() + \"  -->  \"+ (name[find_pos+2:].strip() if find_pos+2 != len(name) else \"\") + \"\\n\")\n",
    "\n"
   ]
  },
  {
   "cell_type": "code",
   "execution_count": 92,
   "metadata": {},
   "outputs": [],
   "source": [
    "# After analyzing the Corrected_names.txt and modifying names there manually , we make changes in our new_df\n",
    "# row at 988 index will be dropped it's too general - Just \"curry\"\n",
    "\n",
    "# old code\n",
    "# new_df.drop([988],inplace=True)"
   ]
  },
  {
   "cell_type": "code",
   "execution_count": 103,
   "metadata": {},
   "outputs": [],
   "source": [
    "# finally read the modified names and place them in new_df\n",
    "\n",
    "# old code\n",
    "# with open(\"Corrected_names.txt\",\"r\") as f:\n",
    "#     for line in f:\n",
    "#         ind = int(line.split()[0])\n",
    "#         new_name = line[line.find(\">\")+1:]\n",
    "#         new_df.loc[ind,'name'] = new_name.strip()"
   ]
  },
  {
   "cell_type": "code",
   "execution_count": 105,
   "metadata": {},
   "outputs": [],
   "source": [
    "def find_and_flag(name,keywords):\n",
    "    for word in keywords:\n",
    "        if word in name :\n",
    "            return True\n",
    "    return False"
   ]
  },
  {
   "cell_type": "code",
   "execution_count": 121,
   "metadata": {},
   "outputs": [],
   "source": [
    "# new code - links.csv has already been created it can now be called to further detect erraneous keywords and filter\n",
    "new_df = pd.read_csv(\"links.csv\")"
   ]
  },
  {
   "cell_type": "code",
   "execution_count": 122,
   "metadata": {},
   "outputs": [],
   "source": [
    "keywords_to_detect=[\"yummy\",'famous','tasty','delicious','mom','dad','uncle','bhai','excellent','good','very','love','delight','hungry','my','like','sweet','dish','mast',' in ','restaurant','style','oven','favourite']\n",
    "open(\"Corrected_names.txt\",\"w\").close()\n",
    "with open(\"Corrected_names.txt\",\"a\") as f:\n",
    "    for i in new_df.index:\n",
    "        name = new_df.loc[i,'name']\n",
    "        hasFound = find_and_flag(name.lower(),keywords_to_detect)\n",
    "        if(hasFound):\n",
    "            f.write(str(i) + \" \"+name.strip() + \"  -->  \"+ name.strip() + \"\\n\")\n",
    "\n"
   ]
  },
  {
   "cell_type": "code",
   "execution_count": 117,
   "metadata": {},
   "outputs": [],
   "source": [
    "with open(\"Corrected_names.txt\",\"r\") as f:\n",
    "    for line in f:\n",
    "        ind = int(line.split()[0])\n",
    "        new_name = line[line.find(\">\")+1:]\n",
    "        new_df.loc[ind,'name'] = new_name.strip()"
   ]
  },
  {
   "cell_type": "code",
   "execution_count": 119,
   "metadata": {},
   "outputs": [],
   "source": [
    "new_df.to_csv(\"links.csv\",index=False)"
   ]
  }
 ],
 "metadata": {
  "kernelspec": {
   "display_name": "venv",
   "language": "python",
   "name": "python3"
  },
  "language_info": {
   "codemirror_mode": {
    "name": "ipython",
    "version": 3
   },
   "file_extension": ".py",
   "mimetype": "text/x-python",
   "name": "python",
   "nbconvert_exporter": "python",
   "pygments_lexer": "ipython3",
   "version": "3.11.5"
  }
 },
 "nbformat": 4,
 "nbformat_minor": 2
}
