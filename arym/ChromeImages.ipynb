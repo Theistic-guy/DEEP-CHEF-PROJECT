{
 "cells": [
  {
   "cell_type": "code",
   "execution_count": null,
   "metadata": {},
   "outputs": [],
   "source": [
    "from selenium import webdriver\n",
    "import requests\n",
    "import io\n",
    "from PIL import Image\n",
    "from selenium.webdriver.common.by import By\n",
    "from selenium.webdriver.common.keys import Keys\n",
    "import time"
   ]
  },
  {
   "cell_type": "code",
   "execution_count": null,
   "metadata": {},
   "outputs": [],
   "source": [
    "path = \"C:\\\\Users\\\\aryam\\\\Documents\\\\ML\\\\ImageToRecipe\\\\chromedriver.exe\"\n",
    "cService = webdriver.ChromeService(executable_path=path)\n",
    "driver = webdriver.Chrome(service = cService)\n",
    "driver.execute_script(\"window.scrollTo(0,document.body.scrollHeight);\")"
   ]
  },
  {
   "cell_type": "code",
   "execution_count": null,
   "metadata": {},
   "outputs": [],
   "source": [
    "image_url = \"https://encrypted-tbn0.gstatic.com/images?q=tbn:ANd9GcRkc1hVUlUYxBwYN1Dg9GjfYNiCGnRWVredgm6hSb75sA&s\"\n",
    "def download_image(download_path,url,filename):\n",
    "    try:\n",
    "        image_content = requests.get(image_url).content\n",
    "        image_bytes = io.BytesIO(image_content)\n",
    "        file_path = download_path + filename\n",
    "        image = Image.open(image_bytes)\n",
    "        with open(file_path,\"wb\") as f:\n",
    "            image.save(f,\"JPEG\")\n",
    "    except Exception as e:\n",
    "        print(\"Exception is \", e)"
   ]
  },
  {
   "cell_type": "code",
   "execution_count": null,
   "metadata": {},
   "outputs": [],
   "source": [
    "# download_image(\"\",image_url,\"radha_krsna.jpg\")\n",
    "# sFlh5c pT0Scc iPVvYb\n",
    "# thumbnail - mNsIhb"
   ]
  },
  {
   "cell_type": "code",
   "execution_count": null,
   "metadata": {},
   "outputs": [],
   "source": [
    "driver = webdriver.Chrome(service=cService)\n",
    "driver.maximize_window()\n",
    "driver.get('https://images.google.com/')\n",
    "search_box = driver.find_element(By.NAME,\"q\")\n",
    "search_box.send_keys(\"car\")\n",
    "search_box.send_keys(Keys.ENTER)\n",
    "start = 10\n",
    "length = 10\n",
    "driver.quit()\n",
    "time.sleep(2)\n",
    "thumbnails = driver.find_elements(By.CLASS_NAME,\"mNsIhb\")\n",
    "print(len(thumbnails))\n",
    "try:\n",
    "    print(thumbnails[0].get_attribute(\"id\"))\n",
    "    thumbnails[0].click()\n",
    "    time.sleep(2)\n",
    "    img_container = driver.find_elements(By.CLASS_NAME,\"jlTjKd\")\n",
    "    print(len(img_container[0]))\n",
    "except Exception as e:\n",
    "    print(e)"
   ]
  },
  {
   "cell_type": "code",
   "execution_count": null,
   "metadata": {},
   "outputs": [],
   "source": [
    "img_container[1].get_attribute(\"class\")"
   ]
  },
  {
   "cell_type": "code",
   "execution_count": null,
   "metadata": {},
   "outputs": [],
   "source": [
    "thumbnails[0].get_attribute(\"src\")"
   ]
  }
 ],
 "metadata": {
  "kernelspec": {
   "display_name": "venv",
   "language": "python",
   "name": "python3"
  },
  "language_info": {
   "codemirror_mode": {
    "name": "ipython",
    "version": 3
   },
   "file_extension": ".py",
   "mimetype": "text/x-python",
   "name": "python",
   "nbconvert_exporter": "python",
   "pygments_lexer": "ipython3",
   "version": "3.11.5"
  }
 },
 "nbformat": 4,
 "nbformat_minor": 2
}
