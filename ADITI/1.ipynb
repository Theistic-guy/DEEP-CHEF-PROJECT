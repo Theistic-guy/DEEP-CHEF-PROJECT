{
 "cells": [
  {
   "cell_type": "code",
   "execution_count": 3,
   "metadata": {},
   "outputs": [],
   "source": [
    "import os\n",
    "import requests\n",
    "from bs4 import BeautifulSoup\n",
    "import csv"
   ]
  },
  {
   "cell_type": "code",
   "execution_count": 10,
   "metadata": {},
   "outputs": [
    {
     "ename": "FileNotFoundError",
     "evalue": "[Errno 2] No such file or directory: 'HTMLFOOD.html'",
     "output_type": "error",
     "traceback": [
      "\u001b[1;31m---------------------------------------------------------------------------\u001b[0m",
      "\u001b[1;31mFileNotFoundError\u001b[0m                         Traceback (most recent call last)",
      "Cell \u001b[1;32mIn[10], line 1\u001b[0m\n\u001b[1;32m----> 1\u001b[0m file \u001b[38;5;241m=\u001b[39m \u001b[38;5;28;43mopen\u001b[39;49m\u001b[43m(\u001b[49m\u001b[38;5;124;43m\"\u001b[39;49m\u001b[38;5;124;43mHTMLFOOD.html\u001b[39;49m\u001b[38;5;124;43m\"\u001b[39;49m\u001b[43m,\u001b[49m\u001b[38;5;124;43m\"\u001b[39;49m\u001b[38;5;124;43mr\u001b[39;49m\u001b[38;5;124;43m\"\u001b[39;49m\u001b[43m,\u001b[49m\u001b[43mencoding\u001b[49m\u001b[38;5;241;43m=\u001b[39;49m\u001b[38;5;124;43m'\u001b[39;49m\u001b[38;5;124;43mutf-8\u001b[39;49m\u001b[38;5;124;43m'\u001b[39;49m\u001b[43m)\u001b[49m\n",
      "File \u001b[1;32m~\\AppData\\Local\\Packages\\PythonSoftwareFoundation.Python.3.10_qbz5n2kfra8p0\\LocalCache\\local-packages\\Python310\\site-packages\\IPython\\core\\interactiveshell.py:282\u001b[0m, in \u001b[0;36m_modified_open\u001b[1;34m(file, *args, **kwargs)\u001b[0m\n\u001b[0;32m    275\u001b[0m \u001b[38;5;28;01mif\u001b[39;00m file \u001b[38;5;129;01min\u001b[39;00m {\u001b[38;5;241m0\u001b[39m, \u001b[38;5;241m1\u001b[39m, \u001b[38;5;241m2\u001b[39m}:\n\u001b[0;32m    276\u001b[0m     \u001b[38;5;28;01mraise\u001b[39;00m \u001b[38;5;167;01mValueError\u001b[39;00m(\n\u001b[0;32m    277\u001b[0m         \u001b[38;5;124mf\u001b[39m\u001b[38;5;124m\"\u001b[39m\u001b[38;5;124mIPython won\u001b[39m\u001b[38;5;124m'\u001b[39m\u001b[38;5;124mt let you open fd=\u001b[39m\u001b[38;5;132;01m{\u001b[39;00mfile\u001b[38;5;132;01m}\u001b[39;00m\u001b[38;5;124m by default \u001b[39m\u001b[38;5;124m\"\u001b[39m\n\u001b[0;32m    278\u001b[0m         \u001b[38;5;124m\"\u001b[39m\u001b[38;5;124mas it is likely to crash IPython. If you know what you are doing, \u001b[39m\u001b[38;5;124m\"\u001b[39m\n\u001b[0;32m    279\u001b[0m         \u001b[38;5;124m\"\u001b[39m\u001b[38;5;124myou can use builtins\u001b[39m\u001b[38;5;124m'\u001b[39m\u001b[38;5;124m open.\u001b[39m\u001b[38;5;124m\"\u001b[39m\n\u001b[0;32m    280\u001b[0m     )\n\u001b[1;32m--> 282\u001b[0m \u001b[38;5;28;01mreturn\u001b[39;00m io_open(file, \u001b[38;5;241m*\u001b[39margs, \u001b[38;5;241m*\u001b[39m\u001b[38;5;241m*\u001b[39mkwargs)\n",
      "\u001b[1;31mFileNotFoundError\u001b[0m: [Errno 2] No such file or directory: 'HTMLFOOD.html'"
     ]
    }
   ],
   "source": [
    "file = open(\"HTMLFOOD.html\",\"r\",encoding='utf-8')"
   ]
  },
  {
   "cell_type": "code",
   "execution_count": 29,
   "metadata": {},
   "outputs": [
    {
     "data": {
      "text/plain": [
       "'\\n\\n    \\n    <div id=\"vue-leaderboard\"><div><div class=\"dfp-ad__wrap\"><div id=\"dfp_leaderboardvsvGHAXn\" data-dfp-type=\"dfp_leaderboard\"></div></div></div></div>\\n    \\n    <div class=\"fd-site\">\\n        <div class=\"fd-site-wrapper\">\\n\\n            \\n\\n\\n\\n\\n            <script defer=\"\" src=\"/_app/export/siteHeaderExported-deploy-38.js\"></script>            <style>svg.spin{animation:svelte-dgiybl-spin 2s infinite linear}@keyframes svelte-dgiybl-spin{0%{transform:rotate(0deg)}100%{transform:rotate(360deg)}}@media screen and (min-width: 744px){}@media screen and (max-width: 743px){}@media screen and (min-width: 1025px){}@media screen and (max-width: 1024px), print{}:root{--n:4;--margin:16px;--gap:16px}@media screen and (min-width: 744px){:root{--n:6;--margin:32px;--gap:24px}}@media screen and (min-width: 1025px){:root{--n:12;--margin:32px;--gap:32px}}header.svelte-dgiybl.svelte-dgiybl.svelte-dgiybl,button.svelte-dgiybl.svelte-dgiybl.svelte-dgiybl{font-family:var(--fonts-base);font-weight:400;font-siz'"
      ]
     },
     "execution_count": 29,
     "metadata": {},
     "output_type": "execute_result"
    }
   ],
   "source": [
    "data=file.read()\n",
    "data[0:1000]"
   ]
  },
  {
   "cell_type": "code",
   "execution_count": 30,
   "metadata": {},
   "outputs": [],
   "source": [
    "soup=BeautifulSoup(data,'html.parser')"
   ]
  },
  {
   "cell_type": "code",
   "execution_count": 31,
   "metadata": {},
   "outputs": [],
   "source": [
    "content=soup.prettify()\n"
   ]
  },
  {
   "cell_type": "code",
   "execution_count": 32,
   "metadata": {},
   "outputs": [
    {
     "name": "stdout",
     "output_type": "stream",
     "text": [
      "1000\n"
     ]
    }
   ],
   "source": [
    "recipe=soup.find_all('div',{'class':\"fd-tile fd-recipe\"})\n",
    "\n",
    "recipe=recipe[:1000]\n",
    "print(len(recipe))"
   ]
  },
  {
   "cell_type": "code",
   "execution_count": 33,
   "metadata": {},
   "outputs": [
    {
     "name": "stdout",
     "output_type": "stream",
     "text": [
      "0\n"
     ]
    }
   ],
   "source": [
    "recipes=[]\n",
    "print(len(recipes))"
   ]
  },
  {
   "cell_type": "code",
   "execution_count": 34,
   "metadata": {},
   "outputs": [],
   "source": [
    "for dish in recipe:\n",
    "    title = dish.find('h2',{'class':\"title\"}).text\n",
    "    link=dish.find('a', {'href': True})['href']\n",
    "    recipes.append({'name':title,'link':link})\n",
    "    "
   ]
  },
  {
   "cell_type": "code",
   "execution_count": 35,
   "metadata": {},
   "outputs": [
    {
     "name": "stdout",
     "output_type": "stream",
     "text": [
      "1000\n"
     ]
    }
   ],
   "source": [
    "print(len(recipes))"
   ]
  },
  {
   "cell_type": "code",
   "execution_count": 36,
   "metadata": {},
   "outputs": [],
   "source": [
    "with open('recipes.csv', 'w', newline='') as csvfile:\n",
    "  fieldnames = ['name', 'link']\n",
    "  writer = csv.DictWriter(csvfile, fieldnames=fieldnames)\n",
    "  writer.writeheader()\n",
    "  writer.writerows(recipes)\n"
   ]
  },
  {
   "cell_type": "code",
   "execution_count": 37,
   "metadata": {},
   "outputs": [],
   "source": [
    "import pandas as pd"
   ]
  },
  {
   "cell_type": "code",
   "execution_count": 40,
   "metadata": {},
   "outputs": [
    {
     "data": {
      "text/html": [
       "<div>\n",
       "<style scoped>\n",
       "    .dataframe tbody tr th:only-of-type {\n",
       "        vertical-align: middle;\n",
       "    }\n",
       "\n",
       "    .dataframe tbody tr th {\n",
       "        vertical-align: top;\n",
       "    }\n",
       "\n",
       "    .dataframe thead th {\n",
       "        text-align: right;\n",
       "    }\n",
       "</style>\n",
       "<table border=\"1\" class=\"dataframe\">\n",
       "  <thead>\n",
       "    <tr style=\"text-align: right;\">\n",
       "      <th></th>\n",
       "      <th>name</th>\n",
       "      <th>link</th>\n",
       "    </tr>\n",
       "  </thead>\n",
       "  <tbody>\n",
       "    <tr>\n",
       "      <th>0</th>\n",
       "      <td>Chicken Tikka Masala</td>\n",
       "      <td>https://www.food.com/recipe/chicken-tikka-masa...</td>\n",
       "    </tr>\n",
       "    <tr>\n",
       "      <th>1</th>\n",
       "      <td>Naan</td>\n",
       "      <td>https://www.food.com/recipe/naan-203261</td>\n",
       "    </tr>\n",
       "    <tr>\n",
       "      <th>2</th>\n",
       "      <td>Chicken Curry in a Hurry</td>\n",
       "      <td>https://www.food.com/recipe/chicken-curry-in-a...</td>\n",
       "    </tr>\n",
       "    <tr>\n",
       "      <th>3</th>\n",
       "      <td>Aloo Gobi</td>\n",
       "      <td>https://www.food.com/recipe/aloo-gobi-84324</td>\n",
       "    </tr>\n",
       "    <tr>\n",
       "      <th>4</th>\n",
       "      <td>Crock Pot Chicken Vindaloo</td>\n",
       "      <td>https://www.food.com/recipe/crock-pot-chicken-...</td>\n",
       "    </tr>\n",
       "    <tr>\n",
       "      <th>...</th>\n",
       "      <td>...</td>\n",
       "      <td>...</td>\n",
       "    </tr>\n",
       "    <tr>\n",
       "      <th>995</th>\n",
       "      <td>Vegetable  Stew  from  Northern  India</td>\n",
       "      <td>https://www.food.com/recipe/vegetable-stew-fro...</td>\n",
       "    </tr>\n",
       "    <tr>\n",
       "      <th>996</th>\n",
       "      <td>Beef Rendang</td>\n",
       "      <td>https://www.food.com/recipe/beef-rendang-41645</td>\n",
       "    </tr>\n",
       "    <tr>\n",
       "      <th>997</th>\n",
       "      <td>Masala Chai Powder</td>\n",
       "      <td>https://www.food.com/recipe/masala-chai-powder...</td>\n",
       "    </tr>\n",
       "    <tr>\n",
       "      <th>998</th>\n",
       "      <td>Chicken Tikka Masala</td>\n",
       "      <td>https://www.food.com/recipe/chicken-tikka-masa...</td>\n",
       "    </tr>\n",
       "    <tr>\n",
       "      <th>999</th>\n",
       "      <td>Indian-Spiced Sweet Potato Steak Fries</td>\n",
       "      <td>https://www.food.com/recipe/indian-spiced-swee...</td>\n",
       "    </tr>\n",
       "  </tbody>\n",
       "</table>\n",
       "<p>1000 rows × 2 columns</p>\n",
       "</div>"
      ],
      "text/plain": [
       "                                       name   \n",
       "0                      Chicken Tikka Masala  \\\n",
       "1                                      Naan   \n",
       "2                  Chicken Curry in a Hurry   \n",
       "3                                 Aloo Gobi   \n",
       "4                Crock Pot Chicken Vindaloo   \n",
       "..                                      ...   \n",
       "995  Vegetable  Stew  from  Northern  India   \n",
       "996                            Beef Rendang   \n",
       "997                      Masala Chai Powder   \n",
       "998                    Chicken Tikka Masala   \n",
       "999  Indian-Spiced Sweet Potato Steak Fries   \n",
       "\n",
       "                                                  link  \n",
       "0    https://www.food.com/recipe/chicken-tikka-masa...  \n",
       "1              https://www.food.com/recipe/naan-203261  \n",
       "2    https://www.food.com/recipe/chicken-curry-in-a...  \n",
       "3          https://www.food.com/recipe/aloo-gobi-84324  \n",
       "4    https://www.food.com/recipe/crock-pot-chicken-...  \n",
       "..                                                 ...  \n",
       "995  https://www.food.com/recipe/vegetable-stew-fro...  \n",
       "996     https://www.food.com/recipe/beef-rendang-41645  \n",
       "997  https://www.food.com/recipe/masala-chai-powder...  \n",
       "998  https://www.food.com/recipe/chicken-tikka-masa...  \n",
       "999  https://www.food.com/recipe/indian-spiced-swee...  \n",
       "\n",
       "[1000 rows x 2 columns]"
      ]
     },
     "execution_count": 40,
     "metadata": {},
     "output_type": "execute_result"
    }
   ],
   "source": [
    "df=pd.read_csv('recipes.csv', encoding='latin-1')\n",
    "df"
   ]
  },
  {
   "cell_type": "code",
   "execution_count": 42,
   "metadata": {},
   "outputs": [
    {
     "name": "stdout",
     "output_type": "stream",
     "text": [
      "I Can't Wait for Chole\n",
      "I Love Palak Paneer (Spinach and Cheese Curry)\n"
     ]
    }
   ],
   "source": [
    "flagged=[]\n",
    "for i , name in enumerate(df['name']):\n",
    "    if name.strip().startswith(\"I \"):\n",
    "        flagged.append(i)\n",
    "        print(name) \n",
    "    "
   ]
  },
  {
   "cell_type": "code",
   "execution_count": 44,
   "metadata": {},
   "outputs": [],
   "source": [
    "df.loc[flagged[0],\"name\"]='Chole'\n",
    "df.loc[flagged[1],\"name\"]='Palak Paneer'"
   ]
  },
  {
   "cell_type": "code",
   "execution_count": null,
   "metadata": {},
   "outputs": [],
   "source": []
  }
 ],
 "metadata": {
  "kernelspec": {
   "display_name": "Python 3",
   "language": "python",
   "name": "python3"
  },
  "language_info": {
   "codemirror_mode": {
    "name": "ipython",
    "version": 3
   },
   "file_extension": ".py",
   "mimetype": "text/x-python",
   "name": "python",
   "nbconvert_exporter": "python",
   "pygments_lexer": "ipython3",
   "version": "3.10.11"
  }
 },
 "nbformat": 4,
 "nbformat_minor": 2
}
