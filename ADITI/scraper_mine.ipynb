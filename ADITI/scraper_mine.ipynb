{
 "cells": [
  {
   "cell_type": "code",
   "execution_count": 8,
   "metadata": {},
   "outputs": [],
   "source": [
    "import os\n",
    "import csv\n",
    "import json\n",
    "from bs4 import BeautifulSoup\n",
    "import shutil\n",
    "import requests\n",
    "import pandas as pd"
   ]
  },
  {
   "cell_type": "code",
   "execution_count": 30,
   "metadata": {},
   "outputs": [],
   "source": [
    "recipes=[]"
   ]
  },
  {
   "cell_type": "code",
   "execution_count": 2,
   "metadata": {},
   "outputs": [],
   "source": [
    "def get_cooking_time(soup):\n",
    "    duration=\"\"\n",
    "    facts=soup.find_all('div',{'class':'facts'})\n",
    "    for fact in facts:\n",
    "        time=fact.find('div',{'class':'facts__item'})\n",
    "        time1=time.find('dd',{'class':'facts__value'})\n",
    "        duration=duration+time1.get_text()\n",
    "    return duration"
   ]
  },
  {
   "cell_type": "code",
   "execution_count": 5,
   "metadata": {},
   "outputs": [],
   "source": [
    "def get_ingredients(soup):\n",
    "    ingredient=soup.find_all('ul',{'class':'ingredient-list'})\n",
    "    ingredients=\"\"\n",
    "    for i in ingredient:\n",
    "        ingri=i.find_all('li')\n",
    "        for li in ingri:\n",
    "            if(li.find('h4')):\n",
    "                continue\n",
    "            for span in li.find_all('span',{'class':'ingredient-text'}):\n",
    "                ingredients=ingredients+span.get_text()+' '\n",
    "            for quantity in li.find_all('span',{'class':'ingredient-quantity'}):\n",
    "                ingredients=ingredients+quantity.get_text()+' '\n",
    "    return ingredients"
   ]
  },
  {
   "cell_type": "code",
   "execution_count": 21,
   "metadata": {},
   "outputs": [],
   "source": [
    "def get_directions(soup):\n",
    "    directions=\"\"\n",
    "    ul=soup.find('ul',{'class':'direction-list'})\n",
    "    li=ul.find_all('li',{'class':'direction'})\n",
    "    for direction in li:\n",
    "        directions=directions+direction.get_text()+\"\\n\"\n",
    "    return directions\n",
    "        \n",
    "        "
   ]
  },
  {
   "cell_type": "code",
   "execution_count": 25,
   "metadata": {},
   "outputs": [],
   "source": [
    "def get_servings(soup):\n",
    "    servings=\"\"\n",
    "    facts=soup.find_all('div',{'class':'facts'})\n",
    "    for fact in facts:\n",
    "        items=fact.find_all('div',{'class':'facts__item'})\n",
    "        for item in items:\n",
    "            serving=item.find('dd',{'class':'facts__value'})\n",
    "            if(serving.find('span',{'class':'value'})):\n",
    "                servings=servings+serving.find('span',{'class':'value'}).get_text()\n",
    "            else:\n",
    "                continue\n",
    "    return servings"
   ]
  },
  {
   "cell_type": "code",
   "execution_count": 17,
   "metadata": {},
   "outputs": [],
   "source": [
    "def get_calories(soup):\n",
    "    calories = soup.find('script', type='application/ld+json').string\n",
    "    calories = json.loads(calories)[\"nutrition\"][\"calories\"]\n",
    "    return calories"
   ]
  },
  {
   "cell_type": "code",
   "execution_count": 14,
   "metadata": {},
   "outputs": [],
   "source": [
    "def text_scrape(recipe_name,url):\n",
    "    data=requests.get(url)\n",
    "    soup=BeautifulSoup(data.content,'html.parser')\n",
    "    dicto={'name':recipe_name,'cooking_time':get_cooking_time(soup),'calories':get_calories(soup),'ingredients':get_ingredients(soup),'directions':get_directions(soup),'serving':get_servings(soup)}\n",
    "    return dicto"
   ]
  },
  {
   "cell_type": "code",
   "execution_count": 34,
   "metadata": {},
   "outputs": [],
   "source": [
    "def main():\n",
    "    df=pd.read_csv(\"C:\\\\Users\\\\aditi\\\\OneDrive\\\\Desktop\\\\PROJECTS\\\\DEEP-CHEF-PROJECT\\\\ADITI\\\\recipes.csv\")\n",
    "    for index, row in df.iloc[0:2].iterrows():\n",
    "        recipes.append(text_scrape(row['name'],row['link']))\n",
    "    with open('recipes.json','r+') as f:\n",
    "        json.dump(recipes,f)\n",
    "\n",
    "if __name__==\"__main__\":\n",
    "    main()"
   ]
  },
  {
   "cell_type": "code",
   "execution_count": null,
   "metadata": {},
   "outputs": [],
   "source": []
  }
 ],
 "metadata": {
  "kernelspec": {
   "display_name": "Python 3",
   "language": "python",
   "name": "python3"
  },
  "language_info": {
   "codemirror_mode": {
    "name": "ipython",
    "version": 3
   },
   "file_extension": ".py",
   "mimetype": "text/x-python",
   "name": "python",
   "nbconvert_exporter": "python",
   "pygments_lexer": "ipython3",
   "version": "3.10.11"
  }
 },
 "nbformat": 4,
 "nbformat_minor": 2
}
