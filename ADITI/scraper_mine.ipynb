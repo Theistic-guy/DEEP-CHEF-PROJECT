{
 "cells": [
  {
   "cell_type": "code",
   "execution_count": 48,
   "metadata": {},
   "outputs": [],
   "source": [
    "import os\n",
    "import csv\n",
    "import json\n",
    "from bs4 import BeautifulSoup\n",
    "import shutil\n",
    "import requests\n",
    "import pandas as pd"
   ]
  },
  {
   "cell_type": "code",
   "execution_count": 49,
   "metadata": {},
   "outputs": [],
   "source": [
    "recipes=[]"
   ]
  },
  {
   "cell_type": "code",
   "execution_count": 50,
   "metadata": {},
   "outputs": [],
   "source": [
    "def get_cooking_time(soup):\n",
    "    duration=\"\"\n",
    "    facts=soup.find_all('div',{'class':'facts'})\n",
    "    for fact in facts:\n",
    "        time=fact.find('div',{'class':'facts__item'})\n",
    "        time1=time.find('dd',{'class':'facts__value'})\n",
    "        duration=duration+time1.get_text()\n",
    "    return duration"
   ]
  },
  {
   "cell_type": "code",
   "execution_count": 51,
   "metadata": {},
   "outputs": [],
   "source": [
    "\n",
    "def get_ingredients(soup):\n",
    "    ingredient=soup.find_all('ul',{'class':'ingredient-list'})\n",
    "    ingredients=\"\"\n",
    "    for i in ingredient:\n",
    "        ingri=i.find_all('li')\n",
    "        for li in ingri:\n",
    "            if(li.find('h4')):\n",
    "                continue\n",
    "            text=\"\"\n",
    "            for span in li.find_all('span',{'class':'ingredient-text'}):\n",
    "               text=text+span.get_text(separator=' ', strip=True) + ' '\n",
    "            for quantity in li.find_all('span',{'class':'ingredient-quantity'}):\n",
    "                text=quantity.get_text()+' '+text\n",
    "            ingredients=ingredients+text.strip()+\"\\n\"\n",
    "    return ingredients"
   ]
  },
  {
   "cell_type": "code",
   "execution_count": 52,
   "metadata": {},
   "outputs": [],
   "source": [
    "def get_directions(soup):\n",
    "    curr_recipe=soup.find('div',{'class':'current-recipe'})\n",
    "    directions=\"\"\n",
    "    ul=curr_recipe.find('ul',{'class':'direction-list'})\n",
    "    li=ul.find_all('li',{'class':'direction'})\n",
    "    for direction in li:\n",
    "        directions=directions+direction.get_text()+\"\\n\"\n",
    "    return directions\n",
    "        \n",
    "        "
   ]
  },
  {
   "cell_type": "code",
   "execution_count": 53,
   "metadata": {},
   "outputs": [],
   "source": [
    "def get_servings(soup):\n",
    "    servings=\"\"\n",
    "    facts=soup.find_all('div',{'class':'facts'})\n",
    "    for fact in facts:\n",
    "        items=fact.find_all('div',{'class':'facts__item'})\n",
    "        for item in items:\n",
    "            serving=item.find('dd',{'class':'facts__value'})\n",
    "            if(serving.find('span',{'class':'value'})):\n",
    "                servings=servings+serving.find('span',{'class':'value'}).get_text()\n",
    "            else:\n",
    "                continue\n",
    "    return servings"
   ]
  },
  {
   "cell_type": "code",
   "execution_count": 54,
   "metadata": {},
   "outputs": [],
   "source": [
    "def get_calories(soup):\n",
    "    if script_tag is not None:\n",
    "        calories_json = script_tag.string\n",
    "        if calories_json is not None:\n",
    "            calories = json.loads(calories_json).get(\"nutrition\", {}).get(\"calories\")\n",
    "            return calories\n",
    "    return None"
   ]
  },
  {
   "cell_type": "code",
   "execution_count": 55,
   "metadata": {},
   "outputs": [],
   "source": [
    "def text_scrape(recipe_name,url):\n",
    "    data=requests.get(url)\n",
    "    soup=BeautifulSoup(data.content,'html.parser')\n",
    "    dicto={'name':recipe_name,'cooking_time':get_cooking_time(soup),'calories':get_calories(soup),'ingredients':get_ingredients(soup),'directions':get_directions(soup),'serving':get_servings(soup)}\n",
    "    return dicto"
   ]
  },
  {
   "cell_type": "code",
   "execution_count": 65,
   "metadata": {},
   "outputs": [
    {
     "ename": "AttributeError",
     "evalue": "'NoneType' object has no attribute 'string'",
     "output_type": "error",
     "traceback": [
      "\u001b[1;31m---------------------------------------------------------------------------\u001b[0m",
      "\u001b[1;31mAttributeError\u001b[0m                            Traceback (most recent call last)",
      "Cell \u001b[1;32mIn[65], line 9\u001b[0m\n\u001b[0;32m      6\u001b[0m         json\u001b[38;5;241m.\u001b[39mdump(recipes,f)\n\u001b[0;32m      8\u001b[0m \u001b[38;5;28;01mif\u001b[39;00m \u001b[38;5;18m__name__\u001b[39m\u001b[38;5;241m==\u001b[39m\u001b[38;5;124m\"\u001b[39m\u001b[38;5;124m__main__\u001b[39m\u001b[38;5;124m\"\u001b[39m:\n\u001b[1;32m----> 9\u001b[0m     \u001b[43mmain\u001b[49m\u001b[43m(\u001b[49m\u001b[43m)\u001b[49m\n",
      "Cell \u001b[1;32mIn[65], line 4\u001b[0m, in \u001b[0;36mmain\u001b[1;34m()\u001b[0m\n\u001b[0;32m      2\u001b[0m df\u001b[38;5;241m=\u001b[39mpd\u001b[38;5;241m.\u001b[39mread_csv(\u001b[38;5;124m\"\u001b[39m\u001b[38;5;124mC:\u001b[39m\u001b[38;5;130;01m\\\\\u001b[39;00m\u001b[38;5;124mUsers\u001b[39m\u001b[38;5;130;01m\\\\\u001b[39;00m\u001b[38;5;124maditi\u001b[39m\u001b[38;5;130;01m\\\\\u001b[39;00m\u001b[38;5;124mOneDrive\u001b[39m\u001b[38;5;130;01m\\\\\u001b[39;00m\u001b[38;5;124mDesktop\u001b[39m\u001b[38;5;130;01m\\\\\u001b[39;00m\u001b[38;5;124mPROJECTS\u001b[39m\u001b[38;5;130;01m\\\\\u001b[39;00m\u001b[38;5;124mDEEP-CHEF-PROJECT\u001b[39m\u001b[38;5;130;01m\\\\\u001b[39;00m\u001b[38;5;124mlinks.csv\u001b[39m\u001b[38;5;124m\"\u001b[39m)\n\u001b[0;32m      3\u001b[0m \u001b[38;5;28;01mfor\u001b[39;00m index, row \u001b[38;5;129;01min\u001b[39;00m df\u001b[38;5;241m.\u001b[39miloc[\u001b[38;5;241m100\u001b[39m:\u001b[38;5;241m150\u001b[39m]\u001b[38;5;241m.\u001b[39miterrows():\n\u001b[1;32m----> 4\u001b[0m     recipes\u001b[38;5;241m.\u001b[39mappend(\u001b[43mtext_scrape\u001b[49m\u001b[43m(\u001b[49m\u001b[43mrow\u001b[49m\u001b[43m[\u001b[49m\u001b[38;5;124;43m'\u001b[39;49m\u001b[38;5;124;43mname\u001b[39;49m\u001b[38;5;124;43m'\u001b[39;49m\u001b[43m]\u001b[49m\u001b[43m,\u001b[49m\u001b[43mrow\u001b[49m\u001b[43m[\u001b[49m\u001b[38;5;124;43m'\u001b[39;49m\u001b[38;5;124;43mlink\u001b[39;49m\u001b[38;5;124;43m'\u001b[39;49m\u001b[43m]\u001b[49m\u001b[43m)\u001b[49m)\n\u001b[0;32m      5\u001b[0m \u001b[38;5;28;01mwith\u001b[39;00m \u001b[38;5;28mopen\u001b[39m(\u001b[38;5;124m'\u001b[39m\u001b[38;5;124mrecipes.json\u001b[39m\u001b[38;5;124m'\u001b[39m,\u001b[38;5;124m'\u001b[39m\u001b[38;5;124mr+\u001b[39m\u001b[38;5;124m'\u001b[39m) \u001b[38;5;28;01mas\u001b[39;00m f:\n\u001b[0;32m      6\u001b[0m     json\u001b[38;5;241m.\u001b[39mdump(recipes,f)\n",
      "Cell \u001b[1;32mIn[55], line 4\u001b[0m, in \u001b[0;36mtext_scrape\u001b[1;34m(recipe_name, url)\u001b[0m\n\u001b[0;32m      2\u001b[0m data\u001b[38;5;241m=\u001b[39mrequests\u001b[38;5;241m.\u001b[39mget(url)\n\u001b[0;32m      3\u001b[0m soup\u001b[38;5;241m=\u001b[39mBeautifulSoup(data\u001b[38;5;241m.\u001b[39mcontent,\u001b[38;5;124m'\u001b[39m\u001b[38;5;124mhtml.parser\u001b[39m\u001b[38;5;124m'\u001b[39m)\n\u001b[1;32m----> 4\u001b[0m dicto\u001b[38;5;241m=\u001b[39m{\u001b[38;5;124m'\u001b[39m\u001b[38;5;124mname\u001b[39m\u001b[38;5;124m'\u001b[39m:recipe_name,\u001b[38;5;124m'\u001b[39m\u001b[38;5;124mcooking_time\u001b[39m\u001b[38;5;124m'\u001b[39m:get_cooking_time(soup),\u001b[38;5;124m'\u001b[39m\u001b[38;5;124mcalories\u001b[39m\u001b[38;5;124m'\u001b[39m:\u001b[43mget_calories\u001b[49m\u001b[43m(\u001b[49m\u001b[43msoup\u001b[49m\u001b[43m)\u001b[49m,\u001b[38;5;124m'\u001b[39m\u001b[38;5;124mingredients\u001b[39m\u001b[38;5;124m'\u001b[39m:get_ingredients(soup),\u001b[38;5;124m'\u001b[39m\u001b[38;5;124mdirections\u001b[39m\u001b[38;5;124m'\u001b[39m:get_directions(soup),\u001b[38;5;124m'\u001b[39m\u001b[38;5;124mserving\u001b[39m\u001b[38;5;124m'\u001b[39m:get_servings(soup)}\n\u001b[0;32m      5\u001b[0m \u001b[38;5;28;01mreturn\u001b[39;00m dicto\n",
      "Cell \u001b[1;32mIn[54], line 2\u001b[0m, in \u001b[0;36mget_calories\u001b[1;34m(soup)\u001b[0m\n\u001b[0;32m      1\u001b[0m \u001b[38;5;28;01mdef\u001b[39;00m \u001b[38;5;21mget_calories\u001b[39m(soup):\n\u001b[1;32m----> 2\u001b[0m     calories \u001b[38;5;241m=\u001b[39m \u001b[43msoup\u001b[49m\u001b[38;5;241;43m.\u001b[39;49m\u001b[43mfind\u001b[49m\u001b[43m(\u001b[49m\u001b[38;5;124;43m'\u001b[39;49m\u001b[38;5;124;43mscript\u001b[39;49m\u001b[38;5;124;43m'\u001b[39;49m\u001b[43m,\u001b[49m\u001b[43m \u001b[49m\u001b[38;5;28;43mtype\u001b[39;49m\u001b[38;5;241;43m=\u001b[39;49m\u001b[38;5;124;43m'\u001b[39;49m\u001b[38;5;124;43mapplication/ld+json\u001b[39;49m\u001b[38;5;124;43m'\u001b[39;49m\u001b[43m)\u001b[49m\u001b[38;5;241;43m.\u001b[39;49m\u001b[43mstring\u001b[49m\n\u001b[0;32m      3\u001b[0m     calories \u001b[38;5;241m=\u001b[39m json\u001b[38;5;241m.\u001b[39mloads(calories)[\u001b[38;5;124m\"\u001b[39m\u001b[38;5;124mnutrition\u001b[39m\u001b[38;5;124m\"\u001b[39m][\u001b[38;5;124m\"\u001b[39m\u001b[38;5;124mcalories\u001b[39m\u001b[38;5;124m\"\u001b[39m]\n\u001b[0;32m      4\u001b[0m     \u001b[38;5;28;01mreturn\u001b[39;00m calories\n",
      "\u001b[1;31mAttributeError\u001b[0m: 'NoneType' object has no attribute 'string'"
     ]
    }
   ],
   "source": [
    "def main():\n",
    "    df=pd.read_csv(\"C:\\\\Users\\\\aditi\\\\OneDrive\\\\Desktop\\\\PROJECTS\\\\DEEP-CHEF-PROJECT\\\\links.csv\")\n",
    "    for index, row in df.iloc[100:150].iterrows():\n",
    "        recipes.append(text_scrape(row['name'],row['link']))\n",
    "    with open('recipes.json','r+') as f:\n",
    "        json.dump(recipes,f)\n",
    "\n",
    "if __name__==\"__main__\":\n",
    "    main()"
   ]
  },
  {
   "cell_type": "code",
   "execution_count": null,
   "metadata": {},
   "outputs": [],
   "source": []
  }
 ],
 "metadata": {
  "kernelspec": {
   "display_name": "Python 3",
   "language": "python",
   "name": "python3"
  },
  "language_info": {
   "codemirror_mode": {
    "name": "ipython",
    "version": 3
   },
   "file_extension": ".py",
   "mimetype": "text/x-python",
   "name": "python",
   "nbconvert_exporter": "python",
   "pygments_lexer": "ipython3",
   "version": "3.10.11"
  }
 },
 "nbformat": 4,
 "nbformat_minor": 2
}
