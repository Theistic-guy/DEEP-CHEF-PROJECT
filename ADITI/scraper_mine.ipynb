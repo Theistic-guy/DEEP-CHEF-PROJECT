{
 "cells": [
  {
   "cell_type": "code",
   "execution_count": 4,
   "metadata": {},
   "outputs": [],
   "source": [
    "import os\n",
    "import csv\n",
    "import json\n",
    "from google_images_download import google_images_download\n",
    "from bs4 import BeautifulSoup\n",
    "import shutil"
   ]
  },
  {
   "cell_type": "code",
   "execution_count": 5,
   "metadata": {},
   "outputs": [],
   "source": [
    "def get_cooking_time(soup):\n",
    "    return soup.find('dd',{'class':'facts__value svelte-1dqq0pw'}).text_strip"
   ]
  },
  {
   "cell_type": "code",
   "execution_count": 6,
   "metadata": {},
   "outputs": [],
   "source": [
    "def get_calories(soup):\n",
    "    return soup.find('p',{'class':'recipe-nutrition__item bold svelte-epeb0m'}).text_strip"
   ]
  },
  {
   "cell_type": "code",
   "execution_count": 7,
   "metadata": {},
   "outputs": [],
   "source": [
    "def get_ingredients(soup):\n",
    "    ingredient=soup.find_all('li',{'class':'display: contents'})\n",
    "    ingredients=\"\"\n",
    "    for i in ingredient:\n",
    "        quntity=i.find('span',{'class':'ingredient-quantity svelte-1dqq0pw'}).text_strip()\n",
    "        item=i.find('span',{'class':'ingredient-text svelte-1dqq0pw'}).text_strip()\n",
    "        ingredients=ingredients+quntity+item+ \"\\n\""
   ]
  },
  {
   "cell_type": "code",
   "execution_count": 8,
   "metadata": {},
   "outputs": [],
   "source": [
    "def get_directions(soup):\n",
    "    directions=soup.find_all('ul',{'class':'direction svelte-1dqq0pw'})\n",
    "    direction=\"\"\n",
    "    for i in directions:\n",
    "        text=i.text_strip()\n",
    "        direction=direction+text+ \"\\n\""
   ]
  },
  {
   "cell_type": "code",
   "execution_count": null,
   "metadata": {},
   "outputs": [],
   "source": [
    "def download_image(recipe_name):\n",
    "    response = google_images_download.googleimagesdownload()\n",
    "    arguments={\"keywords\":recipe_name,\"format\":\"jpg\",\"limit\":12,\"output_directory\":\"recipes_images\"}\n",
    "    response.download(args)\n",
    "    parent"
   ]
  },
  {
   "cell_type": "code",
   "execution_count": 9,
   "metadata": {},
   "outputs": [],
   "source": [
    "#def get_name(raw_text):\n",
    "    "
   ]
  },
  {
   "cell_type": "code",
   "execution_count": 10,
   "metadata": {},
   "outputs": [],
   "source": [
    "def text_scrape(name,file_path):\n",
    "    file = open(file_path,encoding='utf-8')\n",
    "    data=file.read()\n",
    "    soup=BeautifulSoup(data.content,'html.parser')\n",
    "    recipe_name=get_name(name)\n",
    "    dicto={'name':recipe_name,'cooking_time':get_cooking_time(soup),'calories':get_calories(soup),'ingredients':get_ingredients(soup),'directions':get_directions(soup)}\n",
    "    downloadimage(recipe_name)\n",
    "    "
   ]
  },
  {
   "cell_type": "code",
   "execution_count": null,
   "metadata": {},
   "outputs": [],
   "source": []
  }
 ],
 "metadata": {
  "kernelspec": {
   "display_name": "Python 3",
   "language": "python",
   "name": "python3"
  },
  "language_info": {
   "codemirror_mode": {
    "name": "ipython",
    "version": 3
   },
   "file_extension": ".py",
   "mimetype": "text/x-python",
   "name": "python",
   "nbconvert_exporter": "python",
   "pygments_lexer": "ipython3",
   "version": "3.10.11"
  }
 },
 "nbformat": 4,
 "nbformat_minor": 2
}
