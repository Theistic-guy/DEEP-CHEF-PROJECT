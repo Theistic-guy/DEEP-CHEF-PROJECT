{
 "cells": [
  {
   "cell_type": "code",
   "execution_count": 53,
   "metadata": {},
   "outputs": [],
   "source": [
    "from selenium import webdriver\n",
    "import requests\n",
    "import io\n",
    "from PIL import Image\n",
    "from selenium.webdriver.common.by import By\n",
    "from selenium.webdriver.common.keys import Keys\n",
    "import time\n",
    "import csv\n",
    "\n",
    "#The By module is typically used to specify the mechanism used to locate elements within a webpage, such as by ID, class name, CSS selector, etc. \n",
    "\n",
    "#And Keys module is used for sending special keyboard keys like Enter, Esc, etc. to web elements.\n",
    "\n",
    "#The time module in Python provides various time-related functions. You can use it for tasks such as getting the current time, pausing or delaying the execution of code, measuring time durations, and more"
   ]
  },
  {
   "cell_type": "code",
   "execution_count": 47,
   "metadata": {},
   "outputs": [],
   "source": [
    "path = \"C:\\\\Users\\\\aditi\\\\Downloads\\\\chromedriver-win64\\\\chromedriver-win64\\\\chromedriver.exe\"\n",
    "wd=webdriver.ChromeService(executable_path=path) #creates an instance of Chrome WebDriver, which allows you to interact  with the Chrome browser.\n",
    "\n",
    "driver = webdriver.Chrome(service=wd) # Create a new Chrome session and pass the service object\n",
    "driver.maximize_window()\n",
    "driver.execute_script(\"window.scrollTo(0,document.body.scrollHeight);\")\n"
   ]
  },
  {
   "cell_type": "code",
   "execution_count": null,
   "metadata": {},
   "outputs": [],
   "source": [
    "\n",
    "#image_url defines the url of the image we want to download\n",
    "def download_image(download_path,image_url):\n",
    "    try:\n",
    "        image_content=requests.get(image_url).content \n",
    "    #gives the content of the image_url that is the image at that particular url\n",
    "    \n",
    "        image_file=io.BytesIO(image_content) \n",
    "    #converts the image_content to a ByteIO data type so that it gets saved in memory it stores binary data\n",
    "    \n",
    "        image=Image.open(image_file)\n",
    "    #converts the binary data of image to a actual image\n",
    "    \n",
    "        file_path=os.path_join(download_path,'.jpg')\n",
    "        with open(file_path,\"wb\") as f:# wb ---> write bytes\n",
    "            image.save(f,\"JPEG\") \n",
    "            print('Success')    \n",
    "    except Exception as e:\n",
    "        print(\"Failed : \",e)\n",
    "        \n"
   ]
  },
  {
   "cell_type": "code",
   "execution_count": null,
   "metadata": {},
   "outputs": [],
   "source": [
    "def get_images(recipe_name,wd,delay,max_images):\n",
    "    def scroll_down(wd):\n",
    "        driver.execute_script(\"window.scrollTo(0,document.body.scrollHeight);\")\n",
    "        time.sleep(delay) #delay for scrolling\n",
    "    driver.get(\"https://images.google.com/\")\n",
    "    search_box = driver.find_element(By.NAME,'q')\n",
    "    search_box.send_keys(recipe_name)\n",
    "    search_box.send_keys(Keys.RETURN)\n",
    "    image_urls=set() #to avoid duplicate images\n",
    "    while(len(image_urls)<max_images):\n",
    "        scroll_down(wd)\n",
    "        thumbnails = wd.find_elements(By.CLASS_NAME , \"jlTjKd\")\n",
    "        for img in thumbnails[len(image_urls) : max_images]:\n",
    "            try:\n",
    "                img.click()\n",
    "                time.sleep(delay)\n",
    "            except:\n",
    "                continue\n",
    "            images=wd.find_elements(By.CLASS_NAME,\"sFlh5c pT0Scc\")\n",
    "            for image in images:\n",
    "                if(image.get_attribute(\"src\") and 'http' in image.get_attribute)('src'):\n",
    "                    image_urls.add(image.get_attribute('src'))\n",
    "                    print(f\"Found Image {len(image_urls)}\")\n",
    "    return image_urls          \n",
    "                 "
   ]
  },
  {
   "cell_type": "code",
   "execution_count": 52,
   "metadata": {},
   "outputs": [],
   "source": [
    "with open('recipes.csv','r') as f:\n",
    "    reader=csv.DictReader(f)\n",
    "    for row in reader:\n",
    "        recipe_name = row['name']\n",
    "        recipe_urls=get_images(recipe_name,driver,2,8)\n",
    "        download_path=os.path_join('recipes_images/train',recipe_name)\n",
    "        if not os.path.exists(download_path):\n",
    "            os.makedirs(download_path)\n",
    "        for url in recipe_urls:\n",
    "            download_image(download_path,url):\n",
    "        driver.quit()"
   ]
  },
  {
   "cell_type": "code",
   "execution_count": null,
   "metadata": {},
   "outputs": [],
   "source": []
  }
 ],
 "metadata": {
  "kernelspec": {
   "display_name": "Python 3",
   "language": "python",
   "name": "python3"
  },
  "language_info": {
   "codemirror_mode": {
    "name": "ipython",
    "version": 3
   },
   "file_extension": ".py",
   "mimetype": "text/x-python",
   "name": "python",
   "nbconvert_exporter": "python",
   "pygments_lexer": "ipython3",
   "version": "3.10.11"
  }
 },
 "nbformat": 4,
 "nbformat_minor": 2
}
