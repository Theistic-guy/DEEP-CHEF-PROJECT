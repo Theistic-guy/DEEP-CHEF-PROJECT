{
 "cells": [
  {
   "cell_type": "code",
   "execution_count": 2,
   "metadata": {},
   "outputs": [],
   "source": [
    "import os\n",
    "from bs4 import BeautifulSoup\n",
    "import csv\n",
    "import requests\n",
    "import pandas\n",
    "import spacy\n"
   ]
  },
  {
   "cell_type": "code",
   "execution_count": 3,
   "metadata": {},
   "outputs": [
    {
     "data": {
      "text/plain": [
       "3474604"
      ]
     },
     "execution_count": 3,
     "metadata": {},
     "output_type": "execute_result"
    }
   ],
   "source": [
    "food_data=open(\"food.html\",\"r\",encoding=\"utf8\")\n",
    "food=food_data.read()\n",
    "len(food)"
   ]
  },
  {
   "cell_type": "code",
   "execution_count": 4,
   "metadata": {},
   "outputs": [],
   "source": [
    "soup=BeautifulSoup(food,\"html.parser\")\n"
   ]
  },
  {
   "cell_type": "code",
   "execution_count": 5,
   "metadata": {},
   "outputs": [
    {
     "data": {
      "text/plain": [
       "880"
      ]
     },
     "execution_count": 5,
     "metadata": {},
     "output_type": "execute_result"
    }
   ],
   "source": [
    "recipes=soup.find_all('div',{'class':\"fd-tile fd-recipe\"})\n",
    "recipes=recipes[:880]\n",
    "len(recipes)"
   ]
  },
  {
   "cell_type": "code",
   "execution_count": 6,
   "metadata": {},
   "outputs": [
    {
     "data": {
      "text/plain": [
       "880"
      ]
     },
     "execution_count": 6,
     "metadata": {},
     "output_type": "execute_result"
    }
   ],
   "source": [
    "recipe_list=[]\n",
    "for recipe in recipes:\n",
    "    title=recipe.find('h2',{'class':\"title\"}).text\n",
    "    links=recipe.find(\"a\",{'href':True})['href']\n",
    "    recipe_list.append({'name':title,'link':links})\n",
    "len(recipe_list)    "
   ]
  },
  {
   "cell_type": "code",
   "execution_count": 7,
   "metadata": {},
   "outputs": [],
   "source": [
    "with open(\"recipeLinks.csv\",'w',newline='') as csvfile:\n",
    "    fieldnames=['name','link']\n",
    "    writer=csv.DictWriter(csvfile,fieldnames=fieldnames)\n",
    "    writer.writeheader()\n",
    "    writer.writerows(recipe_list)\n",
    "    \n",
    "    "
   ]
  },
  {
   "cell_type": "code",
   "execution_count": 12,
   "metadata": {},
   "outputs": [
    {
     "data": {
      "text/plain": [
       "'Chicken Tikka Masala'"
      ]
     },
     "execution_count": 12,
     "metadata": {},
     "output_type": "execute_result"
    }
   ],
   "source": [
    "recipe_list[0]['name']"
   ]
  },
  {
   "cell_type": "code",
   "execution_count": 22,
   "metadata": {},
   "outputs": [
    {
     "name": "stdout",
     "output_type": "stream",
     "text": [
      "Less images obtained\n",
      "Less images obtained\n",
      "Less images obtained\n",
      "Less images obtained\n",
      "Less images obtained\n",
      "Less images obtained\n",
      "Less images obtained\n",
      "Less images obtained\n",
      "Less images obtained\n",
      "Less images obtained\n",
      "Less images obtained\n",
      "Less images obtained\n",
      "Less images obtained\n",
      "Exception- Message: no such window: target window already closed\n",
      "from unknown error: web view not found\n",
      "  (Session info: chrome=124.0.6367.61)\n",
      "Stacktrace:\n",
      "\tGetHandleVerifier [0x00007FF7A3167032+63090]\n",
      "\t(No symbol) [0x00007FF7A30D2C82]\n",
      "\t(No symbol) [0x00007FF7A2F6EC65]\n",
      "\t(No symbol) [0x00007FF7A2F4CA7C]\n",
      "\t(No symbol) [0x00007FF7A2FDD687]\n",
      "\t(No symbol) [0x00007FF7A2FF2AC1]\n",
      "\t(No symbol) [0x00007FF7A2FD6D83]\n",
      "\t(No symbol) [0x00007FF7A2FA83A8]\n",
      "\t(No symbol) [0x00007FF7A2FA9441]\n",
      "\tGetHandleVerifier [0x00007FF7A35625AD+4238317]\n",
      "\tGetHandleVerifier [0x00007FF7A359F70D+4488525]\n",
      "\tGetHandleVerifier [0x00007FF7A35979EF+4456495]\n",
      "\tGetHandleVerifier [0x00007FF7A3240576+953270]\n",
      "\t(No symbol) [0x00007FF7A30DE54F]\n",
      "\t(No symbol) [0x00007FF7A30D9224]\n",
      "\t(No symbol) [0x00007FF7A30D935B]\n",
      "\t(No symbol) [0x00007FF7A30C9B94]\n",
      "\tBaseThreadInitThunk [0x00007FF9D482257D+29]\n",
      "\tRtlUserThreadStart [0x00007FF9D5FEAA48+40]\n",
      "\n"
     ]
    }
   ],
   "source": [
    "import os\n",
    "import time\n",
    "from selenium import webdriver\n",
    "from selenium.webdriver.common.by import By\n",
    "from selenium.webdriver.common.keys import Keys\n",
    "from selenium.webdriver.chrome.options import Options\n",
    "import pandas as pd\n",
    "import io\n",
    "import requests\n",
    "from PIL import Image\n",
    "\n",
    "def download_image(download_path,url,filename):\n",
    "    try:\n",
    "        image_content = requests.get(url).content\n",
    "        image_bytes = io.BytesIO(image_content)\n",
    "        file_path = download_path + filename\n",
    "        image = Image.open(image_bytes)\n",
    "        with open(file_path,\"wb\") as f:\n",
    "            image.save(f,\"JPEG\")\n",
    "    except Exception as e:\n",
    "        print(\"Exception is \", e)\n",
    "        \n",
    "        \n",
    "def download_images(download_folder_path,urls,recipe,recipe_index,train_imgs_count):\n",
    "    try:\n",
    "        recipe_folder_name = str(recipe_index) + \"_\" + recipe\n",
    "        train_folder_path = os.path.join(download_folder_path,recipe_folder_name,\"train\")\n",
    "        test_folder_path = os.path.join(download_folder_path,recipe_folder_name,\"test\")\n",
    "\n",
    "        if not os.path.exists(train_folder_path):\n",
    "            os.makedirs(train_folder_path)\n",
    "        if not os.path.exists(test_folder_path):\n",
    "            os.makedirs(test_folder_path)\n",
    "            \n",
    "        img_number = 1\n",
    "        for url in urls:\n",
    "            if img_number <= train_imgs_count:\n",
    "                download_image(train_folder_path,url,str(img_number)+\"_\"+recipe+\".jpg\")\n",
    "            else:\n",
    "                download_image(test_folder_path,url,str(img_number)+\"_\"+recipe+\".jpg\")\n",
    "            img_number+=1\n",
    "    except Exception as e:\n",
    "        print(\"Exception is \", e)\n",
    "        \n",
    "# start web browser browser = webdriver.Chrome()\n",
    "\n",
    "PATH=\"C:\\\\Users\\\\Aarush Raj\\\\OneDrive\\\\Desktop\\\\img2rec\\\\venv\\\\chromedriver.exe\"\n",
    "chrome_service=webdriver.ChromeService(executable_path=PATH)\n",
    "chrome_options=Options()\n",
    "chrome_options.add_experimental_option(\"detach\",True)\n",
    "\n",
    "\n",
    "\n",
    "# search for recipe on Google Images\n",
    "\"\"\"search_url = f\"https://www.google.com/search?site=&tbm=isch&source=hp&biw=1873&bih=990&q={recipe_name}\"\n",
    "driver.get(search_url)\"\"\"\n",
    "\n",
    "try:\n",
    "    driver=webdriver.Chrome(service=chrome_service,options=chrome_options)\n",
    "    driver.maximize_window()\n",
    "    driver.get('https://images.google.com/')\n",
    "    time.sleep(10)\n",
    "    search_box = driver.find_element(By.NAME,\"q\")\n",
    "    # wait for search results to load\n",
    "    start = 1 \n",
    "    count= 1\n",
    "    big_delay = 7\n",
    "    small_delay = 3\n",
    "    max_imgs = 10\n",
    "    extra_imgs = 5\n",
    "    batch_size = 10\n",
    "    no_of_img_to_train=8\n",
    "\n",
    "\n",
    "    df = pd.read_csv(\"recipeLinks.csv\",skiprows= start,nrows=count,names=['name','link'])\n",
    "    # download images\n",
    "    for i in range(batch_size):\n",
    "        recipe=df.loc[i+start-1,'name']\n",
    "        recipe_index_csv=i+start-1\n",
    "        \n",
    "        search_box.send_keys(recipe)\n",
    "        search_box.send_keys(Keys.ENTER)\n",
    "        time.sleep(10)\n",
    "    \n",
    "        image_urls=set()\n",
    "        # click on the first image\n",
    "        thumbnails = driver.find_elements(By.CLASS_NAME,\"mNsIhb\")\n",
    "        while len(thumbnails) < max_imgs+extra_imgs: # checking condition before scrolling to minimize HTTP Requests\n",
    "            print(\"Less images obtained\")\n",
    "            time.sleep(small_delay)\n",
    "            driver.execute_script(\"window.scrollTo(0,document.body.scrollHeight);\")\n",
    "            time.sleep(small_delay)\n",
    "            thumbnails = driver.find_elements(By.CLASS_NAME,\"mNsIhb\") \n",
    "            \n",
    "        x=len(image_urls)\n",
    "        count=0\n",
    "        for thumbnail in thumbnails[x:batch_size]:\n",
    "            if(count==max_imgs):\n",
    "                break\n",
    "            \n",
    "            try:\n",
    "                thumbnail.click()\n",
    "                # wait for image to load\n",
    "                time.sleep(5)\n",
    "            except:\n",
    "                continue\n",
    "            print(thumbnail)\n",
    "            pop_up_window = driver.find_elements(By.CLASS_NAME,\"jlTjKd\")  \n",
    "            for pop_up_elements in pop_up_window:\n",
    "                img_tags=pop_up_elements.find_elements(By.TAG_NAME,\"img\")\n",
    "                class_name=pop_up_elements.get_attribute(\"class\")\n",
    "                if \"iPVvYb\" in class_name.strip():\n",
    "                    for img_tag in img_tags:\n",
    "                        image_url=img_tag.get_attribute('src')\n",
    "                        image_urls.add(image_url)\n",
    "                    \n",
    "            \"\"\"images= driver.find_elements(By.CLASS_NAME,\"iPVvYb\")\n",
    "            for image in images:\n",
    "                if image.get_attribute('src') and 'http' in image.get_attribute('src'):\n",
    "                    image_urls.add(image.get_attribute('src'))\n",
    "                    print(\"Found Image\")\n",
    "            print(images) \n",
    "            driver.back()\n",
    "            time.sleep(6) \n",
    "            \n",
    "        for image_url in image_urls:\n",
    "            response = requests.get(image_url)\n",
    "            image_filename = os.path.join(download_dir, f\"image_{i}.jpg\")\n",
    "            with open(image_filename, \"wb\") as f:\n",
    "                f.write(response.content)\n",
    "        \n",
    "            print(\"img_elem\",image_elem)\n",
    "                print(\"\\n\")\n",
    "                print(\"image thumbnail\",image_th)\n",
    "                print(\" \")\n",
    "                print(\"imgurl\",image_url)\n",
    "            \"\"\"    \n",
    "        # download the image\n",
    "        download_images(\".\\\\images\",image_urls,recipe,recipe_index_csv,no_of_img_to_train)\n",
    "                    \n",
    "                \n",
    "                # go back to search results\n",
    "        time.sleep(7)        \n",
    "    # close web browser\n",
    "    #print(image_urls)\n",
    "    driver.quit()\n",
    "except Exception as e:\n",
    "    print(\"Exception-\",e)\n",
    "    driver.quit()    "
   ]
  },
  {
   "cell_type": "code",
   "execution_count": 1,
   "metadata": {},
   "outputs": [],
   "source": [
    "from selenium import webdriver\n",
    "from selenium.webdriver.common.keys import Keys\n",
    "import requests\n",
    "import io\n",
    "from PIL import Image\n",
    "import os\n",
    "PATH=\"C:\\\\Users\\\\Aarush Raj\\\\OneDrive\\\\Desktop\\\\img2rec\\\\venv\\\\chromedriver.exe\"\n",
    "chrome_service=webdriver.ChromeService(executable_path=PATH)\n",
    "driver=webdriver.Chrome(service=chrome_service)\n",
    "\"\"\"driver.get(\"https://www.browserstack.com/guide/python-selenium-to-run-web-automation-test\")\n",
    "print(driver.title)\n",
    "chrome_options=webdriver.ChromeService(executable_path=PATH)\n",
    "chrome_options.add_argument('--start-maximized')\n",
    "wd=webdriver.Chrome(options=chrome_options)\n",
    "#wd=webdriver.Chrome(PATH)\"\"\"\n",
    "try:\n",
    "    image_url=\"https://cdn.britannica.com/79/232779-050-6B0411D7/German-Shepherd-dog-Alsatian.jpg\"\n",
    "    image_content=requests.get(image_url).content\n",
    "    image_file=io.BytesIO(image_content)\n",
    "    image=Image.open(image_file)\n",
    "    file_path=\"\"+\"t.jpg\"\n",
    "    with open(file_path,\"wb\") as f:\n",
    "        image.save(f,\"JPEG\")\n",
    "except Exception as e:\n",
    "    print(\"Failed with exception\",e)        \n",
    "    "
   ]
  },
  {
   "cell_type": "code",
   "execution_count": 40,
   "metadata": {},
   "outputs": [],
   "source": [
    "driver.close()"
   ]
  }
 ],
 "metadata": {
  "kernelspec": {
   "display_name": "Python 3",
   "language": "python",
   "name": "python3"
  },
  "language_info": {
   "codemirror_mode": {
    "name": "ipython",
    "version": 3
   },
   "file_extension": ".py",
   "mimetype": "text/x-python",
   "name": "python",
   "nbconvert_exporter": "python",
   "pygments_lexer": "ipython3",
   "version": "3.11.5"
  }
 },
 "nbformat": 4,
 "nbformat_minor": 2
}
