{
 "cells": [
  {
   "cell_type": "markdown",
   "metadata": {},
   "source": [
    "#why in txt if it is array"
   ]
  },
  {
   "cell_type": "code",
   "execution_count": 1,
   "metadata": {},
   "outputs": [],
   "source": [
    "import os\n",
    "import numpy as np\n",
    "from keras.preprocessing import image\n",
    "from keras.applications import densenet\n",
    "import keras\n",
    "import pickle\n",
    "from scipy.spatial.distance import cosine\n",
    "from PIL import Image\n"
   ]
  },
  {
   "cell_type": "code",
   "execution_count": 2,
   "metadata": {},
   "outputs": [],
   "source": [
    "model = densenet.DenseNet201(include_top=False, weights='imagenet', input_shape=(256, 256, 3), pooling='avg', classes=1000)"
   ]
  },
  {
   "cell_type": "code",
   "execution_count": 3,
   "metadata": {},
   "outputs": [],
   "source": [
    "def getencodings(url):    \n",
    "    _img = image.load_img(url, target_size=(256, 256))\n",
    "    _img = keras.utils.img_to_array(_img)\n",
    "    _img = np.expand_dims(_img, axis=0)\n",
    "    _enc = densenet.preprocess_input(_img)\n",
    "    _enc = model.predict(_enc)\n",
    "    return _enc"
   ]
  },
  {
   "cell_type": "code",
   "execution_count": 6,
   "metadata": {},
   "outputs": [
    {
     "name": "stdout",
     "output_type": "stream",
     "text": [
      "\u001b[1m1/1\u001b[0m \u001b[32m━━━━━━━━━━━━━━━━━━━━\u001b[0m\u001b[37m\u001b[0m \u001b[1m0s\u001b[0m 260ms/step\n"
     ]
    },
    {
     "data": {
      "text/plain": [
       "numpy.ndarray"
      ]
     },
     "execution_count": 6,
     "metadata": {},
     "output_type": "execute_result"
    }
   ],
   "source": [
    "type(getencodings(\"C:/Users/Aarush Raj/OneDrive/Desktop/img2rec/DEEP-CHEF-PROJECT/downloaded_images/train/0_Chicken Tikka Masala/1_Chicken Tikka Masala.jpg\"))"
   ]
  },
  {
   "cell_type": "code",
   "execution_count": 7,
   "metadata": {},
   "outputs": [
    {
     "name": "stdout",
     "output_type": "stream",
     "text": [
      "\u001b[1m1/1\u001b[0m \u001b[32m━━━━━━━━━━━━━━━━━━━━\u001b[0m\u001b[37m\u001b[0m \u001b[1m0s\u001b[0m 261ms/step\n",
      "\u001b[1m1/1\u001b[0m \u001b[32m━━━━━━━━━━━━━━━━━━━━\u001b[0m\u001b[37m\u001b[0m \u001b[1m0s\u001b[0m 234ms/step\n",
      "\u001b[1m1/1\u001b[0m \u001b[32m━━━━━━━━━━━━━━━━━━━━\u001b[0m\u001b[37m\u001b[0m \u001b[1m0s\u001b[0m 313ms/step\n",
      "\u001b[1m1/1\u001b[0m \u001b[32m━━━━━━━━━━━━━━━━━━━━\u001b[0m\u001b[37m\u001b[0m \u001b[1m0s\u001b[0m 283ms/step\n",
      "\u001b[1m1/1\u001b[0m \u001b[32m━━━━━━━━━━━━━━━━━━━━\u001b[0m\u001b[37m\u001b[0m \u001b[1m0s\u001b[0m 252ms/step\n",
      "\u001b[1m1/1\u001b[0m \u001b[32m━━━━━━━━━━━━━━━━━━━━\u001b[0m\u001b[37m\u001b[0m \u001b[1m0s\u001b[0m 405ms/step\n",
      "\u001b[1m1/1\u001b[0m \u001b[32m━━━━━━━━━━━━━━━━━━━━\u001b[0m\u001b[37m\u001b[0m \u001b[1m0s\u001b[0m 153ms/step\n",
      "\u001b[1m1/1\u001b[0m \u001b[32m━━━━━━━━━━━━━━━━━━━━\u001b[0m\u001b[37m\u001b[0m \u001b[1m0s\u001b[0m 153ms/step\n",
      "1\n",
      "358 8\n"
     ]
    }
   ],
   "source": [
    "#C:\\Users\\Aarush Raj\\OneDrive\\Desktop\\img2rec\\DEEP-CHEF-PROJECT\\downloaded_images\\train\\0_Chicken Tikka Masala\\1_Chicken Tikka Masala.jpg\n",
    "#C:/Users/Aarush Raj/OneDrive/Desktop/img2rec/DEEP-CHEF-PROJECT/downloaded_images/train/0_Chicken Tikka Masala/1_Chicken Tikka Masala.jpg\n",
    "names_list=os.listdir(r\"C:\\Users\\Aarush Raj\\OneDrive\\Desktop\\img2rec\\DEEP-CHEF-PROJECT\\downloaded_images\\train\")\n",
    "encodings_list = []\n",
    "c = 0\n",
    "for i in names_list[0:1]:\n",
    "    p=i.split(\"_\")[1]\n",
    "    for j in range(1,9):\n",
    "        image_path=\"C:/Users/Aarush Raj/OneDrive/Desktop/img2rec/DEEP-CHEF-PROJECT/downloaded_images/train/\"+i+\"/\"+str(j)+\"_\"+p+\".jpg\"\n",
    "        #img = image.load_img(image_path, target_size=(256, 256))\n",
    "        encoding = getencodings(image_path)\n",
    "        encodings_list.append(encoding)\n",
    "    c += 1\n",
    "    print(c)\n",
    "print(len(names_list), len(encodings_list))\n",
    "with open('encodings.txt', 'wb') as file:\n",
    "    pickle.dump(encodings_list, file)\n",
    "with open('enc_names.txt', 'wb') as file:\n",
    "    pickle.dump(names_list, file)"
   ]
  },
  {
   "cell_type": "code",
   "execution_count": null,
   "metadata": {},
   "outputs": [],
   "source": [
    "with open(r\"C:\\Users\\Aarush Raj\\OneDrive\\Desktop\\img2rec\\DEEP-CHEF-PROJECT\\aarush\\encodings.txt\",\"r+\") as f:\n",
    "    "
   ]
  },
  {
   "cell_type": "code",
   "execution_count": 64,
   "metadata": {},
   "outputs": [
    {
     "data": {
      "text/plain": [
       "list"
      ]
     },
     "execution_count": 64,
     "metadata": {},
     "output_type": "execute_result"
    }
   ],
   "source": [
    "type(encodings_list)"
   ]
  },
  {
   "cell_type": "code",
   "execution_count": 54,
   "metadata": {},
   "outputs": [
    {
     "data": {
      "text/plain": [
       "'C:/Users/Aarush Raj/OneDrive/Desktop/img2rec/DEEP-CHEF-PROJECT/downloaded_images/train/0_Chicken Tikka Masala/1_Chicken Tikka Masala.jpg'"
      ]
     },
     "execution_count": 54,
     "metadata": {},
     "output_type": "execute_result"
    }
   ],
   "source": [
    "image_path"
   ]
  },
  {
   "cell_type": "markdown",
   "metadata": {},
   "source": [
    "just checking"
   ]
  },
  {
   "cell_type": "code",
   "execution_count": 17,
   "metadata": {},
   "outputs": [
    {
     "name": "stdout",
     "output_type": "stream",
     "text": [
      "\u001b[1m1/1\u001b[0m \u001b[32m━━━━━━━━━━━━━━━━━━━━\u001b[0m\u001b[37m\u001b[0m \u001b[1m0s\u001b[0m 193ms/step\n"
     ]
    },
    {
     "data": {
      "text/plain": [
       "array([[9.7090713e-05, 7.5560465e-04, 1.5090167e-03, ..., 2.7459392e-01,\n",
       "        1.9984721e-01, 1.2217317e-01]], dtype=float32)"
      ]
     },
     "execution_count": 17,
     "metadata": {},
     "output_type": "execute_result"
    }
   ],
   "source": [
    "_img = image.load_img(r\"C:\\Users\\Aarush Raj\\OneDrive\\Desktop\\img2rec\\DEEP-CHEF-PROJECT\\downloaded_images\\test\\1_Naan\\9_Naan.jpg\", target_size=(256, 256))\n",
    "_img = keras.utils.img_to_array(_img)\n",
    "_img = np.expand_dims(_img, axis=0)\n",
    "_enc = densenet.preprocess_input(_img)\n",
    "_enc = model.predict(_enc)\n",
    "_enc"
   ]
  },
  {
   "cell_type": "code",
   "execution_count": 13,
   "metadata": {},
   "outputs": [
    {
     "name": "stdout",
     "output_type": "stream",
     "text": [
      "['hello', 'test', 'train']\n"
     ]
    }
   ],
   "source": [
    "print(os.listdir(r\"C:\\Users\\Aarush Raj\\OneDrive\\Desktop\\img2rec\\DEEP-CHEF-PROJECT\\downloaded_images\"))"
   ]
  },
  {
   "cell_type": "markdown",
   "metadata": {},
   "source": [
    "just checking"
   ]
  },
  {
   "cell_type": "code",
   "execution_count": 5,
   "metadata": {},
   "outputs": [
    {
     "name": "stdout",
     "output_type": "stream",
     "text": [
      "\u001b[1m1/1\u001b[0m \u001b[32m━━━━━━━━━━━━━━━━━━━━\u001b[0m\u001b[37m\u001b[0m \u001b[1m0s\u001b[0m 291ms/step\n",
      "[[9.1914306e-05 5.8829499e-04 1.2086974e-03 ... 7.5686830e-01\n",
      "  6.8234848e-03 7.4211019e-04]]\n"
     ]
    }
   ],
   "source": [
    "img = image.load_img(r\"C:\\Users\\Aarush Raj\\OneDrive\\Desktop\\img2rec\\DEEP-CHEF-PROJECT\\downloaded_images\\train\\1_Naan\\2_Naan.jpg\", target_size=(256, 256))\n",
    "img = keras.utils.img_to_array(img)\n",
    "img = np.expand_dims(img, axis=0)\n",
    "enc = densenet.preprocess_input(img)\n",
    "enc = model.predict(enc)\n",
    "print(enc)"
   ]
  },
  {
   "cell_type": "code",
   "execution_count": 20,
   "metadata": {},
   "outputs": [
    {
     "name": "stdout",
     "output_type": "stream",
     "text": [
      "\u001b[1m1/1\u001b[0m \u001b[32m━━━━━━━━━━━━━━━━━━━━\u001b[0m\u001b[37m\u001b[0m \u001b[1m0s\u001b[0m 222ms/step\n",
      "[[1.3076351e-04 3.2538065e-04 1.4036527e-03 ... 5.8270401e-01\n",
      "  1.1677598e-02 9.1031656e-02]]\n"
     ]
    }
   ],
   "source": [
    "img1 = image.load_img(r\"C:\\Users\\Aarush Raj\\OneDrive\\Desktop\\img2rec\\DEEP-CHEF-PROJECT\\downloaded_images\\train\\1_Naan\\5_Naan.jpg\", target_size=(256, 256))\n",
    "img1 = keras.utils.img_to_array(img1)\n",
    "img1 = np.expand_dims(img1, axis=0)\n",
    "enc1 = densenet.preprocess_input(img1)\n",
    "enc1 = model.predict(enc1)\n",
    "print(enc1)"
   ]
  },
  {
   "cell_type": "code",
   "execution_count": 21,
   "metadata": {},
   "outputs": [
    {
     "name": "stdout",
     "output_type": "stream",
     "text": [
      "0.38520339248235214 0.39427060395575675 0.38686255295183825 0.38686255295183825\n"
     ]
    }
   ],
   "source": [
    "similarity=cosine(_enc[0],enc[0])\n",
    "s1=cosine(_enc[0],enc1[0])\n",
    "s2=cosine(enc[0],enc1[0])\n",
    "s3=cosine(enc1[0],enc[0])\n",
    "print(similarity,s1,s2,s3)"
   ]
  },
  {
   "cell_type": "code",
   "execution_count": 24,
   "metadata": {},
   "outputs": [
    {
     "name": "stdout",
     "output_type": "stream",
     "text": [
      "\u001b[1m1/1\u001b[0m \u001b[32m━━━━━━━━━━━━━━━━━━━━\u001b[0m\u001b[37m\u001b[0m \u001b[1m0s\u001b[0m 177ms/step\n",
      "[[6.5320186e-05 4.3773686e-04 1.4675669e-03 ... 1.0696392e+00\n",
      "  2.8892964e-02 3.2143086e-02]]\n",
      "\u001b[1m1/1\u001b[0m \u001b[32m━━━━━━━━━━━━━━━━━━━━\u001b[0m\u001b[37m\u001b[0m \u001b[1m0s\u001b[0m 288ms/step\n",
      "[[1.1759455e-04 4.8694725e-04 1.9708984e-03 ... 1.1663135e+00\n",
      "  9.2119738e-02 1.7724106e-02]]\n",
      "0.16504474276782277\n"
     ]
    }
   ],
   "source": [
    "img7 = image.load_img(r\"C:\\Users\\Aarush Raj\\OneDrive\\Desktop\\img2rec\\DEEP-CHEF-PROJECT\\downloaded_images\\train\\1_Naan\\7_Naan.jpg\", target_size=(256, 256))\n",
    "img7 = keras.utils.img_to_array(img7)\n",
    "img7 = np.expand_dims(img7, axis=0)\n",
    "enc7 = densenet.preprocess_input(img7)\n",
    "enc7 = model.predict(enc7)\n",
    "print(enc7)\n",
    "\n",
    "img3 = image.load_img(r\"C:\\Users\\Aarush Raj\\OneDrive\\Desktop\\img2rec\\DEEP-CHEF-PROJECT\\downloaded_images\\train\\1_Naan\\3_Naan.jpg\", target_size=(256, 256))\n",
    "img3 = keras.utils.img_to_array(img3)\n",
    "img3 = np.expand_dims(img3, axis=0)\n",
    "enc3 = densenet.preprocess_input(img3)\n",
    "enc3 = model.predict(enc3)\n",
    "print(enc3)\n",
    "\n",
    "print(cosine(enc3[0],enc7[0]))"
   ]
  },
  {
   "cell_type": "code",
   "execution_count": 11,
   "metadata": {},
   "outputs": [
    {
     "name": "stdout",
     "output_type": "stream",
     "text": [
      "<class 'numpy.ndarray'>\n",
      "1920\n",
      "1920\n",
      "1.6126285e-05\n"
     ]
    }
   ],
   "source": [
    "print(type(_enc))\n",
    "print(len(_enc[0]))\n",
    "print(len(enc[0]))\n",
    "print(_enc[0][156])"
   ]
  },
  {
   "cell_type": "code",
   "execution_count": 8,
   "metadata": {},
   "outputs": [],
   "source": [
    "with open(\"draft.txt\",\"w\") as f:\n",
    "    f.write(str(enc))\n",
    "    f.write(str(_enc))"
   ]
  }
 ],
 "metadata": {
  "kernelspec": {
   "display_name": "venv",
   "language": "python",
   "name": "python3"
  },
  "language_info": {
   "codemirror_mode": {
    "name": "ipython",
    "version": 3
   },
   "file_extension": ".py",
   "mimetype": "text/x-python",
   "name": "python",
   "nbconvert_exporter": "python",
   "pygments_lexer": "ipython3",
   "version": "3.11.5"
  }
 },
 "nbformat": 4,
 "nbformat_minor": 2
}
