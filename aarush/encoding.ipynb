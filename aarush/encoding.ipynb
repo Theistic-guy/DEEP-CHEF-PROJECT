{
 "cells": [
  {
   "cell_type": "code",
   "execution_count": 1,
   "metadata": {},
   "outputs": [],
   "source": [
    "import os\n",
    "import numpy as np\n",
    "from keras.preprocessing import image\n",
    "from keras.applications import densenet\n",
    "import keras\n",
    "import pickle\n",
    "from scipy.spatial.distance import cosine\n",
    "from PIL import Image\n"
   ]
  },
  {
   "cell_type": "code",
   "execution_count": 2,
   "metadata": {},
   "outputs": [],
   "source": [
    "model = densenet.DenseNet201(include_top=False, weights='imagenet', input_shape=(256, 256, 3),pooling='avg',classes= 358)"
   ]
  },
  {
   "cell_type": "code",
   "execution_count": 3,
   "metadata": {},
   "outputs": [],
   "source": [
    "def getencodings(path):    \n",
    "    _img = image.load_img(path, target_size=(256, 256))\n",
    "    _img = keras.utils.img_to_array(_img)\n",
    "    _img = np.expand_dims(_img, axis=0)\n",
    "    _enc = densenet.preprocess_input(_img)\n",
    "    _enc = model.predict(_enc)\n",
    "    return _enc"
   ]
  },
  {
   "cell_type": "code",
   "execution_count": null,
   "metadata": {},
   "outputs": [],
   "source": [
    "if __name__ == '__main__':\n",
    "    train_folder=r\"C:\\Users\\Aarush Raj\\OneDrive\\Desktop\\img2rec\\DEEP-CHEF-PROJECT\\downloaded_images\\train\"\n",
    "    test_folder=r\"C:\\Users\\Aarush Raj\\OneDrive\\Desktop\\img2rec\\DEEP-CHEF-PROJECT\\downloaded_images\\test\"\n",
    "    recipes_list=os.listdir(train_folder)\n",
    "    recipes_list.sort(key=lambda item:int(item.split(\"_\")[0]))\n",
    "    train_names_list=os.listdir(train_folder)\n",
    "    test_names_list=os.listdir(test_folder)\n",
    "    encodings_list = []\n",
    "    recipe_list=[]\n",
    "    c = 0\n",
    "    for i in range(len(recipes_list)):\n",
    "        name=recipes_list[i]\n",
    "        recipe_name=name.split(\"_\")[1]\n",
    "        recipe_index=name.split(\"_\")[0]\n",
    "        train_path=os.path.join(train_folder,name)\n",
    "        train_names_list=os.listdir(train_path)\n",
    "        for train_name in train_names_list:\n",
    "            image_path=os.path.join(train_path,train_name)\n",
    "            encoding = getencodings(image_path)\n",
    "            encodings_list.append(encoding)\n",
    "            recipe_list.append(name)\n",
    "        test_path=os.path.join(test_folder,name)\n",
    "        test_names_list=os.listdir(test_path)    \n",
    "        for test_name in test_names_list:\n",
    "            image_path=os.path.join(test_path,test_name)\n",
    "            encoding = getencodings(image_path)\n",
    "            encodings_list.append(encoding)\n",
    "            recipe_list.append(name)\n",
    "    print(len(recipe_list), len(encodings_list))\n",
    "\n",
    "    with open(r'C:\\Users\\Aarush Raj\\OneDrive\\Desktop\\img2rec\\DEEP-CHEF-PROJECT\\aarush\\encodings.txt', 'wb') as file:\n",
    "        pickle.dump(encodings_list, file)\n",
    "    with open(r'C:\\Users\\Aarush Raj\\OneDrive\\Desktop\\img2rec\\DEEP-CHEF-PROJECT\\aarush\\enc_names.txt', 'wb') as file:\n",
    "        pickle.dump(recipe_list, file)"
   ]
  }
 ],
 "metadata": {
  "kernelspec": {
   "display_name": "venv",
   "language": "python",
   "name": "python3"
  },
  "language_info": {
   "codemirror_mode": {
    "name": "ipython",
    "version": 3
   },
   "file_extension": ".py",
   "mimetype": "text/x-python",
   "name": "python",
   "nbconvert_exporter": "python",
   "pygments_lexer": "ipython3",
   "version": "3.11.5"
  }
 },
 "nbformat": 4,
 "nbformat_minor": 2
}
