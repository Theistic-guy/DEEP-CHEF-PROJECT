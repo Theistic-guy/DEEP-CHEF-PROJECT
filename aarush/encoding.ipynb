{
 "cells": [
  {
   "cell_type": "code",
   "execution_count": 1,
   "metadata": {},
   "outputs": [],
   "source": [
    "import os\n",
    "import numpy as np\n",
    "from keras.preprocessing import image\n",
    "from keras.applications import densenet\n",
    "import keras\n",
    "import pickle\n",
    "from scipy.spatial.distance import cosine\n",
    "from PIL import Image\n"
   ]
  },
  {
   "cell_type": "code",
   "execution_count": 2,
   "metadata": {},
   "outputs": [],
   "source": [
    "model = densenet.DenseNet201(include_top=False, weights='imagenet', input_shape=(256, 256, 3), pooling='avg', classes=350)"
   ]
  },
  {
   "cell_type": "code",
   "execution_count": 3,
   "metadata": {},
   "outputs": [],
   "source": [
    "def getencodings(path):    \n",
    "    _img = image.load_img(path, target_size=(256, 256))\n",
    "    _img = keras.utils.img_to_array(_img)\n",
    "    _img = np.expand_dims(_img, axis=0)\n",
    "    _enc = densenet.preprocess_input(_img)\n",
    "    _enc = model.predict(_enc)\n",
    "    return _enc"
   ]
  },
  {
   "cell_type": "code",
   "execution_count": 4,
   "metadata": {},
   "outputs": [
    {
     "name": "stdout",
     "output_type": "stream",
     "text": [
      "\u001b[1m1/1\u001b[0m \u001b[32m━━━━━━━━━━━━━━━━━━━━\u001b[0m\u001b[37m\u001b[0m \u001b[1m31s\u001b[0m 31s/step\n"
     ]
    },
    {
     "data": {
      "text/plain": [
       "numpy.ndarray"
      ]
     },
     "execution_count": 4,
     "metadata": {},
     "output_type": "execute_result"
    }
   ],
   "source": [
    "type(getencodings(\"C:/Users/Aarush Raj/OneDrive/Desktop/img2rec/DEEP-CHEF-PROJECT/downloaded_images/train/0_Chicken Tikka Masala/1_Chicken Tikka Masala.jpg\"))"
   ]
  },
  {
   "cell_type": "code",
   "execution_count": 5,
   "metadata": {},
   "outputs": [
    {
     "name": "stdout",
     "output_type": "stream",
     "text": [
      "\u001b[1m1/1\u001b[0m \u001b[32m━━━━━━━━━━━━━━━━━━━━\u001b[0m\u001b[37m\u001b[0m \u001b[1m1s\u001b[0m 952ms/step\n",
      "\u001b[1m1/1\u001b[0m \u001b[32m━━━━━━━━━━━━━━━━━━━━\u001b[0m\u001b[37m\u001b[0m \u001b[1m0s\u001b[0m 313ms/step\n",
      "\u001b[1m1/1\u001b[0m \u001b[32m━━━━━━━━━━━━━━━━━━━━\u001b[0m\u001b[37m\u001b[0m \u001b[1m0s\u001b[0m 292ms/step\n",
      "\u001b[1m1/1\u001b[0m \u001b[32m━━━━━━━━━━━━━━━━━━━━\u001b[0m\u001b[37m\u001b[0m \u001b[1m0s\u001b[0m 178ms/step\n",
      "\u001b[1m1/1\u001b[0m \u001b[32m━━━━━━━━━━━━━━━━━━━━\u001b[0m\u001b[37m\u001b[0m \u001b[1m0s\u001b[0m 163ms/step\n",
      "\u001b[1m1/1\u001b[0m \u001b[32m━━━━━━━━━━━━━━━━━━━━\u001b[0m\u001b[37m\u001b[0m \u001b[1m0s\u001b[0m 228ms/step\n",
      "\u001b[1m1/1\u001b[0m \u001b[32m━━━━━━━━━━━━━━━━━━━━\u001b[0m\u001b[37m\u001b[0m \u001b[1m0s\u001b[0m 274ms/step\n",
      "\u001b[1m1/1\u001b[0m \u001b[32m━━━━━━━━━━━━━━━━━━━━\u001b[0m\u001b[37m\u001b[0m \u001b[1m0s\u001b[0m 172ms/step\n",
      "\u001b[1m1/1\u001b[0m \u001b[32m━━━━━━━━━━━━━━━━━━━━\u001b[0m\u001b[37m\u001b[0m \u001b[1m0s\u001b[0m 174ms/step\n",
      "\u001b[1m1/1\u001b[0m \u001b[32m━━━━━━━━━━━━━━━━━━━━\u001b[0m\u001b[37m\u001b[0m \u001b[1m0s\u001b[0m 213ms/step\n",
      "\u001b[1m1/1\u001b[0m \u001b[32m━━━━━━━━━━━━━━━━━━━━\u001b[0m\u001b[37m\u001b[0m \u001b[1m0s\u001b[0m 285ms/step\n",
      "\u001b[1m1/1\u001b[0m \u001b[32m━━━━━━━━━━━━━━━━━━━━\u001b[0m\u001b[37m\u001b[0m \u001b[1m0s\u001b[0m 255ms/step\n",
      "\u001b[1m1/1\u001b[0m \u001b[32m━━━━━━━━━━━━━━━━━━━━\u001b[0m\u001b[37m\u001b[0m \u001b[1m0s\u001b[0m 180ms/step\n",
      "\u001b[1m1/1\u001b[0m \u001b[32m━━━━━━━━━━━━━━━━━━━━\u001b[0m\u001b[37m\u001b[0m \u001b[1m0s\u001b[0m 199ms/step\n",
      "\u001b[1m1/1\u001b[0m \u001b[32m━━━━━━━━━━━━━━━━━━━━\u001b[0m\u001b[37m\u001b[0m \u001b[1m0s\u001b[0m 255ms/step\n",
      "\u001b[1m1/1\u001b[0m \u001b[32m━━━━━━━━━━━━━━━━━━━━\u001b[0m\u001b[37m\u001b[0m \u001b[1m0s\u001b[0m 227ms/step\n",
      "\u001b[1m1/1\u001b[0m \u001b[32m━━━━━━━━━━━━━━━━━━━━\u001b[0m\u001b[37m\u001b[0m \u001b[1m0s\u001b[0m 259ms/step\n",
      "\u001b[1m1/1\u001b[0m \u001b[32m━━━━━━━━━━━━━━━━━━━━\u001b[0m\u001b[37m\u001b[0m \u001b[1m0s\u001b[0m 203ms/step\n",
      "\u001b[1m1/1\u001b[0m \u001b[32m━━━━━━━━━━━━━━━━━━━━\u001b[0m\u001b[37m\u001b[0m \u001b[1m0s\u001b[0m 236ms/step\n",
      "\u001b[1m1/1\u001b[0m \u001b[32m━━━━━━━━━━━━━━━━━━━━\u001b[0m\u001b[37m\u001b[0m \u001b[1m0s\u001b[0m 245ms/step\n",
      "\u001b[1m1/1\u001b[0m \u001b[32m━━━━━━━━━━━━━━━━━━━━\u001b[0m\u001b[37m\u001b[0m \u001b[1m0s\u001b[0m 293ms/step\n",
      "\u001b[1m1/1\u001b[0m \u001b[32m━━━━━━━━━━━━━━━━━━━━\u001b[0m\u001b[37m\u001b[0m \u001b[1m0s\u001b[0m 188ms/step\n",
      "\u001b[1m1/1\u001b[0m \u001b[32m━━━━━━━━━━━━━━━━━━━━\u001b[0m\u001b[37m\u001b[0m \u001b[1m0s\u001b[0m 293ms/step\n",
      "\u001b[1m1/1\u001b[0m \u001b[32m━━━━━━━━━━━━━━━━━━━━\u001b[0m\u001b[37m\u001b[0m \u001b[1m0s\u001b[0m 163ms/step\n",
      "\u001b[1m1/1\u001b[0m \u001b[32m━━━━━━━━━━━━━━━━━━━━\u001b[0m\u001b[37m\u001b[0m \u001b[1m0s\u001b[0m 269ms/step\n",
      "\u001b[1m1/1\u001b[0m \u001b[32m━━━━━━━━━━━━━━━━━━━━\u001b[0m\u001b[37m\u001b[0m \u001b[1m0s\u001b[0m 236ms/step\n",
      "\u001b[1m1/1\u001b[0m \u001b[32m━━━━━━━━━━━━━━━━━━━━\u001b[0m\u001b[37m\u001b[0m \u001b[1m0s\u001b[0m 245ms/step\n",
      "\u001b[1m1/1\u001b[0m \u001b[32m━━━━━━━━━━━━━━━━━━━━\u001b[0m\u001b[37m\u001b[0m \u001b[1m0s\u001b[0m 186ms/step\n",
      "\u001b[1m1/1\u001b[0m \u001b[32m━━━━━━━━━━━━━━━━━━━━\u001b[0m\u001b[37m\u001b[0m \u001b[1m0s\u001b[0m 178ms/step\n",
      "\u001b[1m1/1\u001b[0m \u001b[32m━━━━━━━━━━━━━━━━━━━━\u001b[0m\u001b[37m\u001b[0m \u001b[1m0s\u001b[0m 195ms/step\n",
      "\u001b[1m1/1\u001b[0m \u001b[32m━━━━━━━━━━━━━━━━━━━━\u001b[0m\u001b[37m\u001b[0m \u001b[1m0s\u001b[0m 275ms/step\n",
      "\u001b[1m1/1\u001b[0m \u001b[32m━━━━━━━━━━━━━━━━━━━━\u001b[0m\u001b[37m\u001b[0m \u001b[1m0s\u001b[0m 204ms/step\n",
      "\u001b[1m1/1\u001b[0m \u001b[32m━━━━━━━━━━━━━━━━━━━━\u001b[0m\u001b[37m\u001b[0m \u001b[1m0s\u001b[0m 203ms/step\n",
      "\u001b[1m1/1\u001b[0m \u001b[32m━━━━━━━━━━━━━━━━━━━━\u001b[0m\u001b[37m\u001b[0m \u001b[1m0s\u001b[0m 228ms/step\n",
      "\u001b[1m1/1\u001b[0m \u001b[32m━━━━━━━━━━━━━━━━━━━━\u001b[0m\u001b[37m\u001b[0m \u001b[1m0s\u001b[0m 268ms/step\n",
      "\u001b[1m1/1\u001b[0m \u001b[32m━━━━━━━━━━━━━━━━━━━━\u001b[0m\u001b[37m\u001b[0m \u001b[1m0s\u001b[0m 244ms/step\n",
      "\u001b[1m1/1\u001b[0m \u001b[32m━━━━━━━━━━━━━━━━━━━━\u001b[0m\u001b[37m\u001b[0m \u001b[1m0s\u001b[0m 213ms/step\n",
      "\u001b[1m1/1\u001b[0m \u001b[32m━━━━━━━━━━━━━━━━━━━━\u001b[0m\u001b[37m\u001b[0m \u001b[1m0s\u001b[0m 204ms/step\n",
      "\u001b[1m1/1\u001b[0m \u001b[32m━━━━━━━━━━━━━━━━━━━━\u001b[0m\u001b[37m\u001b[0m \u001b[1m0s\u001b[0m 242ms/step\n",
      "\u001b[1m1/1\u001b[0m \u001b[32m━━━━━━━━━━━━━━━━━━━━\u001b[0m\u001b[37m\u001b[0m \u001b[1m0s\u001b[0m 244ms/step\n",
      "358 40\n"
     ]
    }
   ],
   "source": [
    "if __name__ == '__main__':\n",
    "    names_list=os.listdir(r\"C:\\Users\\Aarush Raj\\OneDrive\\Desktop\\img2rec\\DEEP-CHEF-PROJECT\\downloaded_images\\train\")\n",
    "    encodings_list = []\n",
    "    recipe_list=[]\n",
    "    c = 0\n",
    "    for name in names_list[0:5]:\n",
    "        recipe_name=name.split(\"_\")[1]\n",
    "        for number in range(1,9):\n",
    "            encoding=[]\n",
    "            image_path=\"C:/Users/Aarush Raj/OneDrive/Desktop/img2rec/DEEP-CHEF-PROJECT/downloaded_images/train/\"+name+\"/\"+str(number)+\"_\"+recipe_name+\".jpg\"\n",
    "            encoding = getencodings(image_path)\n",
    "            encodings_list.append(encoding)\n",
    "            recipe_list.append(recipe_name)\n",
    "        c += 1\n",
    "    print(len(recipe_list), len(encodings_list))\n",
    "\n",
    "    with open('encodings.txt', 'wb') as file:\n",
    "        pickle.dump(encodings_list, file)\n",
    "    with open('enc_names.txt', 'wb') as file:\n",
    "        pickle.dump(recipe_list, file)"
   ]
  },
  {
   "cell_type": "code",
   "execution_count": 7,
   "metadata": {},
   "outputs": [
    {
     "data": {
      "text/plain": [
       "40"
      ]
     },
     "execution_count": 7,
     "metadata": {},
     "output_type": "execute_result"
    }
   ],
   "source": [
    "len(recipe_list)"
   ]
  },
  {
   "cell_type": "code",
   "execution_count": 26,
   "metadata": {},
   "outputs": [
    {
     "name": "stdout",
     "output_type": "stream",
     "text": [
      "€\u0004•ª\u0000\u0000\u0000\u0000\u0000\u0000\u0000]”(Œ\u0014Chicken Tikka Masala”h\u0001h\u0001h\u0001h\u0001h\u0001h\u0001h\u0001Œ\u0010Indian Fry Bread”h\u0002h\u0002h\u0002h\u0002h\u0002h\u0002h\u0002Œ\u000fShrimp Vindaloo”h\u0003h\u0003h\u0003h\u0003h\u0003h\u0003h\u0003Œ\u000bMasala chai”h\u0004h\u0004h\u0004h\u0004h\u0004h\u0004h\u0004Œ\u0012Basmati Pulao nuts”h\u0005h\u0005h\u0005h\u0005h\u0005h\u0005h\u0005e.\n"
     ]
    }
   ],
   "source": [
    "from chardet import detect\n",
    "with open(r\"C:\\Users\\Aarush Raj\\OneDrive\\Desktop\\img2rec\\DEEP-CHEF-PROJECT\\aarush\\enc_names.txt\",\"rb\") as f:\n",
    "    file=f.read()\n",
    "    print(file.decode('Windows-1252'))\n",
    "    #print(detect(file)['encoding'])\n",
    "    "
   ]
  },
  {
   "cell_type": "code",
   "execution_count": null,
   "metadata": {},
   "outputs": [
    {
     "data": {
      "text/plain": [
       "list"
      ]
     },
     "execution_count": 64,
     "metadata": {},
     "output_type": "execute_result"
    }
   ],
   "source": [
    "type(encodings_list)"
   ]
  },
  {
   "cell_type": "code",
   "execution_count": null,
   "metadata": {},
   "outputs": [
    {
     "data": {
      "text/plain": [
       "'C:/Users/Aarush Raj/OneDrive/Desktop/img2rec/DEEP-CHEF-PROJECT/downloaded_images/train/0_Chicken Tikka Masala/1_Chicken Tikka Masala.jpg'"
      ]
     },
     "execution_count": 54,
     "metadata": {},
     "output_type": "execute_result"
    }
   ],
   "source": [
    "image_path"
   ]
  },
  {
   "cell_type": "markdown",
   "metadata": {},
   "source": [
    "just checking"
   ]
  },
  {
   "cell_type": "code",
   "execution_count": null,
   "metadata": {},
   "outputs": [
    {
     "name": "stdout",
     "output_type": "stream",
     "text": [
      "\u001b[1m1/1\u001b[0m \u001b[32m━━━━━━━━━━━━━━━━━━━━\u001b[0m\u001b[37m\u001b[0m \u001b[1m0s\u001b[0m 193ms/step\n"
     ]
    },
    {
     "data": {
      "text/plain": [
       "array([[9.7090713e-05, 7.5560465e-04, 1.5090167e-03, ..., 2.7459392e-01,\n",
       "        1.9984721e-01, 1.2217317e-01]], dtype=float32)"
      ]
     },
     "execution_count": 17,
     "metadata": {},
     "output_type": "execute_result"
    }
   ],
   "source": [
    "_img = image.load_img(r\"C:\\Users\\Aarush Raj\\OneDrive\\Desktop\\img2rec\\DEEP-CHEF-PROJECT\\downloaded_images\\test\\1_Naan\\9_Naan.jpg\", target_size=(256, 256))\n",
    "_img = keras.utils.img_to_array(_img)\n",
    "_img = np.expand_dims(_img, axis=0)\n",
    "_enc = densenet.preprocess_input(_img)\n",
    "_enc = model.predict(_enc)\n",
    "_enc"
   ]
  },
  {
   "cell_type": "code",
   "execution_count": null,
   "metadata": {},
   "outputs": [
    {
     "name": "stdout",
     "output_type": "stream",
     "text": [
      "['hello', 'test', 'train']\n"
     ]
    }
   ],
   "source": [
    "print(os.listdir(r\"C:\\Users\\Aarush Raj\\OneDrive\\Desktop\\img2rec\\DEEP-CHEF-PROJECT\\downloaded_images\"))"
   ]
  },
  {
   "cell_type": "markdown",
   "metadata": {},
   "source": [
    "just checking"
   ]
  },
  {
   "cell_type": "code",
   "execution_count": null,
   "metadata": {},
   "outputs": [
    {
     "name": "stdout",
     "output_type": "stream",
     "text": [
      "\u001b[1m1/1\u001b[0m \u001b[32m━━━━━━━━━━━━━━━━━━━━\u001b[0m\u001b[37m\u001b[0m \u001b[1m0s\u001b[0m 291ms/step\n",
      "[[9.1914306e-05 5.8829499e-04 1.2086974e-03 ... 7.5686830e-01\n",
      "  6.8234848e-03 7.4211019e-04]]\n"
     ]
    }
   ],
   "source": [
    "img = image.load_img(r\"C:\\Users\\Aarush Raj\\OneDrive\\Desktop\\img2rec\\DEEP-CHEF-PROJECT\\downloaded_images\\train\\1_Naan\\2_Naan.jpg\", target_size=(256, 256))\n",
    "img = keras.utils.img_to_array(img)\n",
    "img = np.expand_dims(img, axis=0)\n",
    "enc = densenet.preprocess_input(img)\n",
    "enc = model.predict(enc)\n",
    "print(enc)"
   ]
  },
  {
   "cell_type": "code",
   "execution_count": null,
   "metadata": {},
   "outputs": [
    {
     "name": "stdout",
     "output_type": "stream",
     "text": [
      "\u001b[1m1/1\u001b[0m \u001b[32m━━━━━━━━━━━━━━━━━━━━\u001b[0m\u001b[37m\u001b[0m \u001b[1m0s\u001b[0m 222ms/step\n",
      "[[1.3076351e-04 3.2538065e-04 1.4036527e-03 ... 5.8270401e-01\n",
      "  1.1677598e-02 9.1031656e-02]]\n"
     ]
    }
   ],
   "source": [
    "img1 = image.load_img(r\"C:\\Users\\Aarush Raj\\OneDrive\\Desktop\\img2rec\\DEEP-CHEF-PROJECT\\downloaded_images\\train\\1_Naan\\5_Naan.jpg\", target_size=(256, 256))\n",
    "img1 = keras.utils.img_to_array(img1)\n",
    "img1 = np.expand_dims(img1, axis=0)\n",
    "enc1 = densenet.preprocess_input(img1)\n",
    "enc1 = model.predict(enc1)\n",
    "print(enc1)"
   ]
  },
  {
   "cell_type": "code",
   "execution_count": null,
   "metadata": {},
   "outputs": [
    {
     "name": "stdout",
     "output_type": "stream",
     "text": [
      "0.38520339248235214 0.39427060395575675 0.38686255295183825 0.38686255295183825\n"
     ]
    }
   ],
   "source": [
    "similarity=cosine(_enc[0],enc[0])\n",
    "s1=cosine(_enc[0],enc1[0])\n",
    "s2=cosine(enc[0],enc1[0])\n",
    "s3=cosine(enc1[0],enc[0])\n",
    "print(similarity,s1,s2,s3)"
   ]
  },
  {
   "cell_type": "code",
   "execution_count": null,
   "metadata": {},
   "outputs": [
    {
     "name": "stdout",
     "output_type": "stream",
     "text": [
      "\u001b[1m1/1\u001b[0m \u001b[32m━━━━━━━━━━━━━━━━━━━━\u001b[0m\u001b[37m\u001b[0m \u001b[1m0s\u001b[0m 177ms/step\n",
      "[[6.5320186e-05 4.3773686e-04 1.4675669e-03 ... 1.0696392e+00\n",
      "  2.8892964e-02 3.2143086e-02]]\n",
      "\u001b[1m1/1\u001b[0m \u001b[32m━━━━━━━━━━━━━━━━━━━━\u001b[0m\u001b[37m\u001b[0m \u001b[1m0s\u001b[0m 288ms/step\n",
      "[[1.1759455e-04 4.8694725e-04 1.9708984e-03 ... 1.1663135e+00\n",
      "  9.2119738e-02 1.7724106e-02]]\n",
      "0.16504474276782277\n"
     ]
    }
   ],
   "source": [
    "img7 = image.load_img(r\"C:\\Users\\Aarush Raj\\OneDrive\\Desktop\\img2rec\\DEEP-CHEF-PROJECT\\downloaded_images\\train\\1_Naan\\7_Naan.jpg\", target_size=(256, 256))\n",
    "img7 = keras.utils.img_to_array(img7)\n",
    "img7 = np.expand_dims(img7, axis=0)\n",
    "enc7 = densenet.preprocess_input(img7)\n",
    "enc7 = model.predict(enc7)\n",
    "print(enc7)\n",
    "\n",
    "img3 = image.load_img(r\"C:\\Users\\Aarush Raj\\OneDrive\\Desktop\\img2rec\\DEEP-CHEF-PROJECT\\downloaded_images\\train\\1_Naan\\3_Naan.jpg\", target_size=(256, 256))\n",
    "img3 = keras.utils.img_to_array(img3)\n",
    "img3 = np.expand_dims(img3, axis=0)\n",
    "enc3 = densenet.preprocess_input(img3)\n",
    "enc3 = model.predict(enc3)\n",
    "print(enc3)\n",
    "\n",
    "print(cosine(enc3[0],enc7[0]))"
   ]
  },
  {
   "cell_type": "code",
   "execution_count": null,
   "metadata": {},
   "outputs": [
    {
     "name": "stdout",
     "output_type": "stream",
     "text": [
      "<class 'numpy.ndarray'>\n",
      "1920\n",
      "1920\n",
      "1.6126285e-05\n"
     ]
    }
   ],
   "source": [
    "print(type(_enc))\n",
    "print(len(_enc[0]))\n",
    "print(len(enc[0]))\n",
    "print(_enc[0][156])"
   ]
  },
  {
   "cell_type": "code",
   "execution_count": null,
   "metadata": {},
   "outputs": [
    {
     "name": "stdout",
     "output_type": "stream",
     "text": [
      "€\u0004•þ$\u0000\u0000\u0000\u0000\u0000\u0000]”(Œ\u00160_Chicken Tikka Masala”Œ\u0014100_Indian Fry Bread”Œ\u0013101_Shrimp Vindaloo”Œ\u000f102_Masala chai”Œ\u0016103_Basmati Pulao nuts”Œ\"104_Butternut Squash Coconut Curry”Œ\u000e105_Aloo Matar”Œ\u000f106_Ground Lamb”Œ\u0018107_Indian Spiced Omelet”Œ\u0010108_Palak Paneer”Œ\u0014109_Chicken Tandoori”Œ\u001f10_Chicken Rice and Spices Bake”Œ\u000f110_Garlic Naan”Œ\u0010111_Chai Oatmeal”Œ\t112_Kheer”Œ\u000f113_Garlic Naan”Œ\u0015114_Spicy Lentil Soup”Œ\u001c115_Indian Beef Madras Curry”Œ\u0015116_Cauliflower Curry”Œ\u000b117_Biryani”Œ\u000b118_Samosas”Œ\u001a119_Cashew Chicken Fingers”Œ\u001811_Indian Butter Chicken”Œ\u0013120_Rogan Josh Stew”Œ\u000f121_Phall curry”Œ\u001012_Curry Chicken”Œ\n",
      "\n"
     ]
    }
   ],
   "source": [
    "with open(\"enc_names.txt\",\"r\") as f:\n",
    "    d=f.readline()\n",
    "    print(d)"
   ]
  },
  {
   "cell_type": "code",
   "execution_count": 4,
   "metadata": {},
   "outputs": [
    {
     "data": {
      "text/html": [
       "<div>\n",
       "<style scoped>\n",
       "    .dataframe tbody tr th:only-of-type {\n",
       "        vertical-align: middle;\n",
       "    }\n",
       "\n",
       "    .dataframe tbody tr th {\n",
       "        vertical-align: top;\n",
       "    }\n",
       "\n",
       "    .dataframe thead th {\n",
       "        text-align: right;\n",
       "    }\n",
       "</style>\n",
       "<table border=\"1\" class=\"dataframe\">\n",
       "  <thead>\n",
       "    <tr style=\"text-align: right;\">\n",
       "      <th></th>\n",
       "      <th>name</th>\n",
       "      <th>cooking_time</th>\n",
       "      <th>calories</th>\n",
       "      <th>ingredients</th>\n",
       "      <th>directions</th>\n",
       "      <th>serving</th>\n",
       "    </tr>\n",
       "  </thead>\n",
       "  <tbody>\n",
       "    <tr>\n",
       "      <th>1</th>\n",
       "      <td>Naan</td>\n",
       "      <td>40mins</td>\n",
       "      <td>213.1</td>\n",
       "      <td>4  cups flour\\n1  teaspoon baking powder\\n1  t...</td>\n",
       "      <td>Mix together flour, baking powder and salt.\\r\\...</td>\n",
       "      <td>10</td>\n",
       "    </tr>\n",
       "    <tr>\n",
       "      <th>20</th>\n",
       "      <td>Naan</td>\n",
       "      <td>40mins</td>\n",
       "      <td>213.1</td>\n",
       "      <td>4  cups flour\\n1  teaspoon baking powder\\n1  t...</td>\n",
       "      <td>Mix together flour, baking powder and salt.\\r\\...</td>\n",
       "      <td>10</td>\n",
       "    </tr>\n",
       "    <tr>\n",
       "      <th>367</th>\n",
       "      <td>Naan</td>\n",
       "      <td>8mins</td>\n",
       "      <td>213.9</td>\n",
       "      <td>4  ounces    refrigerated bread dough (see Rec...</td>\n",
       "      <td>Use the refrigerated pre-mixed dough for No-Kn...</td>\n",
       "      <td>1</td>\n",
       "    </tr>\n",
       "  </tbody>\n",
       "</table>\n",
       "</div>"
      ],
      "text/plain": [
       "     name cooking_time  calories  \\\n",
       "1    Naan       40mins     213.1   \n",
       "20   Naan       40mins     213.1   \n",
       "367  Naan        8mins     213.9   \n",
       "\n",
       "                                           ingredients  \\\n",
       "1    4  cups flour\\n1  teaspoon baking powder\\n1  t...   \n",
       "20   4  cups flour\\n1  teaspoon baking powder\\n1  t...   \n",
       "367  4  ounces    refrigerated bread dough (see Rec...   \n",
       "\n",
       "                                            directions serving  \n",
       "1    Mix together flour, baking powder and salt.\\r\\...      10  \n",
       "20   Mix together flour, baking powder and salt.\\r\\...      10  \n",
       "367  Use the refrigerated pre-mixed dough for No-Kn...       1  "
      ]
     },
     "execution_count": 4,
     "metadata": {},
     "output_type": "execute_result"
    }
   ],
   "source": [
    "import json\n",
    "import pandas as pd\n",
    "df=pd.read_json(r\"C:\\Users\\Aarush Raj\\OneDrive\\Desktop\\img2rec\\DEEP-CHEF-PROJECT\\aarush\\recipes.json\")\n",
    "df1=df.query('name==\"Naan\"')\n",
    "df1"
   ]
  },
  {
   "cell_type": "code",
   "execution_count": 6,
   "metadata": {},
   "outputs": [
    {
     "name": "stdout",
     "output_type": "stream",
     "text": [
      "['0_Chicken Tikka Masala', '100_Indian Fry Bread', '101_Shrimp Vindaloo', '102_Masala chai', '103_Basmati Pulao nuts']\n",
      "['0', '100', '101', '102', '103']\n"
     ]
    }
   ],
   "source": [
    "import os\n",
    "lis=os.listdir(r\"C:\\Users\\Aarush Raj\\OneDrive\\Desktop\\img2rec\\DEEP-CHEF-PROJECT\\downloaded_images\\train\")\n",
    "rec=[x.split(\"_\")[0] for x in lis]\n",
    "print(lis[0:5])\n",
    "print(rec[0:5])\n"
   ]
  }
 ],
 "metadata": {
  "kernelspec": {
   "display_name": "venv",
   "language": "python",
   "name": "python3"
  },
  "language_info": {
   "codemirror_mode": {
    "name": "ipython",
    "version": 3
   },
   "file_extension": ".py",
   "mimetype": "text/x-python",
   "name": "python",
   "nbconvert_exporter": "python",
   "pygments_lexer": "ipython3",
   "version": "3.11.5"
  }
 },
 "nbformat": 4,
 "nbformat_minor": 2
}
