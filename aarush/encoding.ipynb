{
 "cells": [
  {
   "cell_type": "code",
   "execution_count": null,
   "metadata": {},
   "outputs": [],
   "source": [
    "\"\"\"new line in ingredients\n",
    "\"\"\""
   ]
  },
  {
   "cell_type": "code",
   "execution_count": 1,
   "metadata": {},
   "outputs": [],
   "source": [
    "import os\n",
    "import shutil\n",
    "import requests\n",
    "import pandas as pd\n",
    "from bs4 import BeautifulSoup\n",
    "import re\n",
    "import json"
   ]
  },
  {
   "cell_type": "code",
   "execution_count": 2,
   "metadata": {},
   "outputs": [],
   "source": [
    "url=\"https://www.food.com/recipe/chicken-tikka-masala-316620\"\n",
    "page=requests.get(url)\n",
    "soup=BeautifulSoup(page.content,'html.parser')"
   ]
  },
  {
   "cell_type": "code",
   "execution_count": 84,
   "metadata": {},
   "outputs": [
    {
     "data": {
      "text/plain": [
       "'1⁄2 teaspoon ground cumin 1⁄2 teaspoon ground coriander 1⁄4 teaspoon cayenne pepper 1 teaspoon table salt 2 lbs boneless skinless chicken breasts 1 cup plain yogurt (see note) 2 tablespoons    vegetable oil 2 medium garlic cloves , minced 1 tablespoon   grated fresh ginger 3 tablespoons    vegetable oil 1 medium onion , diced fine  (about 1 1/4 cups) 2 medium garlic cloves , minced 2 teaspoons   grated fresh ginger 1 fresh serrano chili , ribs and seeds removed, flesh minced  (see note) 1 tablespoon tomato paste 1 tablespoon garam masala (see note) 1 (28   ounce) can crushed tomatoes 2 teaspoons sugar 1⁄2 teaspoon table salt 2⁄3 cup heavy cream 1⁄4 cup   chopped fresh cilantro leaves '"
      ]
     },
     "execution_count": 84,
     "metadata": {},
     "output_type": "execute_result"
    }
   ],
   "source": [
    "def get_ingredients(soup):\n",
    "    ingredients=soup.find_all('ul',{'class':\"ingredient-list\"})\n",
    "    ing=\"\"\n",
    "    for ingredient in ingredients:\n",
    "        for li in ingredient.find_all('li'):\n",
    "            if li.find('h4'):\n",
    "                #current_heading = li.find('h4').text.strip()  # update the current heading\n",
    "                continue\n",
    "            ingredient_text = ''\n",
    "            for span in li.find_all('span', {'class': 'ingredient-text'}):\n",
    "                #ingredient_text += span.text.strip()\n",
    "                ingredient_text += span.get_text(separator=' ', strip=True) + ' '\n",
    "            for quantity in li.find_all('span', {'class': 'ingredient-quantity'}):\n",
    "                ingredient_text = quantity.text.strip() + \" \" + ingredient_text\n",
    "            ing+=ingredient_text.strip()+\"\\n\"\n",
    "    return ing"
   ]
  },
  {
   "cell_type": "code",
   "execution_count": 100,
   "metadata": {},
   "outputs": [
    {
     "data": {
      "text/plain": [
       "'1⁄2 teaspoon ground cumin\\r\\\\n1⁄2 teaspoon ground coriander\\r\\\\n1⁄4 teaspoon cayenne pepper\\r\\\\n1 teaspoon table salt\\r\\\\n2 lbs boneless skinless chicken breasts\\r\\\\n1 cup plain yogurt (see note)\\r\\\\n2 tablespoons    vegetable oil\\r\\\\n2 medium garlic cloves , minced\\r\\\\n1 tablespoon   grated fresh ginger\\r\\\\n3 tablespoons    vegetable oil\\r\\\\n1 medium onion , diced fine  (about 1 1/4 cups)\\r\\\\n2 medium garlic cloves , minced\\r\\\\n2 teaspoons   grated fresh ginger\\r\\\\n1 fresh serrano chili , ribs and seeds removed, flesh minced  (see note)\\r\\\\n1 tablespoon tomato paste\\r\\\\n1 tablespoon garam masala (see note)\\r\\\\n1 (28   ounce) can crushed tomatoes\\r\\\\n2 teaspoons sugar\\r\\\\n1⁄2 teaspoon table salt\\r\\\\n2⁄3 cup heavy cream\\r\\\\n1⁄4 cup   chopped fresh cilantro leaves\\r\\\\n'"
      ]
     },
     "execution_count": 100,
     "metadata": {},
     "output_type": "execute_result"
    }
   ],
   "source": [
    "ingredients=soup.find_all('ul',{'class':\"ingredient-list\"})\n",
    "ing=\"\"\n",
    "for ingredient in ingredients:\n",
    "    for li in ingredient.find_all('li'):\n",
    "        if li.find('h4'):\n",
    "            #current_heading = li.find('h4').text.strip()  # update the current heading\n",
    "            continue\n",
    "        ingredient_text = ''\n",
    "        for span in li.find_all('span', {'class': 'ingredient-text'}):\n",
    "            #ingredient_text += span.text.strip()\n",
    "            ingredient_text += span.get_text(separator=' ', strip=True) + ' '\n",
    "        for quantity in li.find_all('span', {'class': 'ingredient-quantity'}):\n",
    "            ingredient_text = quantity.text.strip() + \" \" + ingredient_text\n",
    "        ing+=ingredient_text.strip() + \"\\r\\\\n\"\n",
    "i2=ing.replace('\\n',\"\\r\")\n",
    "ing"
   ]
  },
  {
   "cell_type": "code",
   "execution_count": 46,
   "metadata": {},
   "outputs": [
    {
     "data": {
      "text/plain": [
       "'1hr 10mins'"
      ]
     },
     "execution_count": 46,
     "metadata": {},
     "output_type": "execute_result"
    }
   ],
   "source": [
    "def getcookingtime(soup):\n",
    "    duration=\"\"\n",
    "    c_time=soup.find_all('div',{'class':\"facts\"})\n",
    "    c_time\n",
    "    for c in c_time:\n",
    "        c1=c.find('div',{'class':\"facts__item\"})\n",
    "        cooking_time=c1.find('dd',{'class':\"facts__value\"})\n",
    "        duration+=cooking_time.text\n",
    "    return duration    "
   ]
  },
  {
   "cell_type": "code",
   "execution_count": 102,
   "metadata": {},
   "outputs": [
    {
     "data": {
      "text/plain": [
       "'\\nThis dish is best when prepared with whole-milk yogurt, but low-fat yogurt can be substituted. For a spicier dish, do not remove the ribs and seeds from the chile. If you prefer, substitute 2 teaspoons ground coriander, 1/4 teaspoon ground cardamom, 1/4 teaspoon ground cinnamon, and 1/2 teaspoon ground black pepper for the garam masala. The sauce can be made ahead, refrigerated for up to 4 days in an airtight container, and gently reheated before adding the hot chicken. Serve with basmati rice.FOR THE CHICKEN: Combine cumin, coriander, cayenne, and salt in small bowl. Sprinkle both sides of chicken with spice mixture, pressing gently so mixture adheres. Place chicken on plate, cover with plastic wrap, and refrigerate for 30 to 60 minutes. In large bowl, whisk together yogurt, oil, garlic, and ginger; set aside.FOR THE SAUCE: Heat oil in large Dutch oven over medium heat until shimmering. Add onion and cook, stirring frequently, until light golden, 8 to 10 minutes. Add garlic, ginger, chile, tomato paste, and garam masala; cook, stirring frequently, until fragrant, about 3 minutes. Add crushed tomatoes, sugar, and salt; bring to boil. Reduce heat to medium-low, cover, and simmer for 15 minutes, stirring occasionally. Stir in cream and return to simmer. Remove pan from heat and cover to keep warm.While sauce simmers, adjust oven rack to upper-middle position (about 6 inches from heating element) and heat broiler. Using tongs, dip chicken into yogurt mixture (chicken should be coated with thick layer of yogurt) and arrange on wire rack set in foil-lined rimmed baking sheet or broiler pan. Discard excess yogurt mixture. Broil chicken until thickest parts register 160 degrees on instant-read thermometer and exterior is lightly charred in spots, 10 to 18 minutes, flipping chicken halfway through cooking.Let chicken rest 5 minutes, then cut into 1-inch chunks and stir into warm sauce (do not simmer chicken in sauce). Stir in cilantro, adjust seasoning with salt, and serve.\\n'"
      ]
     },
     "execution_count": 102,
     "metadata": {},
     "output_type": "execute_result"
    }
   ],
   "source": [
    "layout=soup.find('div',{'class':\"current-recipe\"})\n",
    "u_list=layout.find('ul',{'class':\"direction-list\"})\n",
    "directions=\"\"\n",
    "for li in u_list:\n",
    "    directions+=li.text\n",
    "directions+=\"\"    \n",
    "directions\n",
    "    "
   ]
  },
  {
   "cell_type": "code",
   "execution_count": 75,
   "metadata": {},
   "outputs": [
    {
     "name": "stdout",
     "output_type": "stream",
     "text": [
      "<ul class=\"direction-list svelte-1dqq0pw\">\n",
      "<li class=\"direction svelte-1dqq0pw\">This dish is best when prepared with whole-milk yogurt, but low-fat yogurt can be substituted. For a spicier dish, do not remove the ribs and seeds from the chile. If you prefer, substitute 2 teaspoons ground coriander, 1/4 teaspoon ground cardamom, 1/4 teaspoon ground cinnamon, and 1/2 teaspoon ground black pepper for the garam masala. The sauce can be made ahead, refrigerated for up to 4 days in an airtight container, and gently reheated before adding the hot chicken. Serve with basmati rice.</li><li class=\"direction svelte-1dqq0pw\">FOR THE CHICKEN: Combine cumin, coriander, cayenne, and salt in small bowl. Sprinkle both sides of chicken with spice mixture, pressing gently so mixture adheres. Place chicken on plate, cover with plastic wrap, and refrigerate for 30 to 60 minutes. In large bowl, whisk together yogurt, oil, garlic, and ginger; set aside.</li><li class=\"direction svelte-1dqq0pw\">FOR THE SAUCE: Heat oil in large Dutch oven over medium heat until shimmering. Add onion and cook, stirring frequently, until light golden, 8 to 10 minutes. Add garlic, ginger, chile, tomato paste, and garam masala; cook, stirring frequently, until fragrant, about 3 minutes. Add crushed tomatoes, sugar, and salt; bring to boil. Reduce heat to medium-low, cover, and simmer for 15 minutes, stirring occasionally. Stir in cream and return to simmer. Remove pan from heat and cover to keep warm.</li><li class=\"direction svelte-1dqq0pw\">While sauce simmers, adjust oven rack to upper-middle position (about 6 inches from heating element) and heat broiler. Using tongs, dip chicken into yogurt mixture (chicken should be coated with thick layer of yogurt) and arrange on wire rack set in foil-lined rimmed baking sheet or broiler pan. Discard excess yogurt mixture. Broil chicken until thickest parts register 160 degrees on instant-read thermometer and exterior is lightly charred in spots, 10 to 18 minutes, flipping chicken halfway through cooking.</li><li class=\"direction svelte-1dqq0pw\">Let chicken rest 5 minutes, then cut into 1-inch chunks and stir into warm sauce (do not simmer chicken in sauce). Stir in cilantro, adjust seasoning with salt, and serve.</li>\n",
      "</ul>\n"
     ]
    }
   ],
   "source": [
    "print(u_list)"
   ]
  },
  {
   "cell_type": "code",
   "execution_count": 69,
   "metadata": {},
   "outputs": [
    {
     "data": {
      "text/plain": [
       "[]"
      ]
     },
     "execution_count": 69,
     "metadata": {},
     "output_type": "execute_result"
    }
   ],
   "source": [
    "nutrition_wrappers=soup.find_all('div',{'class':\"recipe-nutrition\"})\n",
    "for wrapper in nutrition_wrappers:\n",
    "    wrapper_section=wrapper.find('section',{'class':\"recipe-nutrition__info\"})\n",
    "nutrition_wrappers"
   ]
  },
  {
   "cell_type": "code",
   "execution_count": 62,
   "metadata": {},
   "outputs": [
    {
     "ename": "AttributeError",
     "evalue": "'list' object has no attribute 'get_attribute'",
     "output_type": "error",
     "traceback": [
      "\u001b[1;31m---------------------------------------------------------------------------\u001b[0m",
      "\u001b[1;31mAttributeError\u001b[0m                            Traceback (most recent call last)",
      "Cell \u001b[1;32mIn[62], line 26\u001b[0m\n\u001b[0;32m     24\u001b[0m time\u001b[38;5;241m.\u001b[39msleep(\u001b[38;5;241m15\u001b[39m)\n\u001b[0;32m     25\u001b[0m modal \u001b[38;5;241m=\u001b[39m driver\u001b[38;5;241m.\u001b[39mfind_elements(By\u001b[38;5;241m.\u001b[39mCLASS_NAME,\u001b[38;5;124m'\u001b[39m\u001b[38;5;124mnutrition-modal\u001b[39m\u001b[38;5;124m'\u001b[39m)\n\u001b[1;32m---> 26\u001b[0m modal_html \u001b[38;5;241m=\u001b[39m \u001b[43mmodal\u001b[49m\u001b[38;5;241;43m.\u001b[39;49m\u001b[43mget_attribute\u001b[49m(\u001b[38;5;124m'\u001b[39m\u001b[38;5;124minnerHTML\u001b[39m\u001b[38;5;124m'\u001b[39m)\n\u001b[0;32m     28\u001b[0m \u001b[38;5;66;03m# extract the nutrition data from the modal HTML\u001b[39;00m\n\u001b[0;32m     29\u001b[0m modal_soup \u001b[38;5;241m=\u001b[39m BeautifulSoup(modal_html, \u001b[38;5;124m'\u001b[39m\u001b[38;5;124mhtml.parser\u001b[39m\u001b[38;5;124m'\u001b[39m)\n",
      "\u001b[1;31mAttributeError\u001b[0m: 'list' object has no attribute 'get_attribute'"
     ]
    }
   ],
   "source": [
    "from selenium import webdriver\n",
    "from selenium.webdriver.common.by import By\n",
    "from selenium.webdriver.support.ui import WebDriverWait\n",
    "from selenium.webdriver.support import expected_conditions as EC\n",
    "from selenium.webdriver.common.keys import Keys\n",
    "from selenium.webdriver.chrome.options import Options\n",
    "import time\n",
    "\n",
    "PATH=\"C:\\\\Users\\\\Aarush Raj\\\\OneDrive\\\\Desktop\\\\img2rec\\\\venv\\\\chromedriver.exe\"\n",
    "chrome_service=webdriver.ChromeService(executable_path=PATH)\n",
    "chrome_options=Options()\n",
    "chrome_options.add_experimental_option(\"detach\",True)\n",
    "\n",
    "# set up the Selenium driver\n",
    "driver = webdriver.Chrome(service=chrome_service,options=chrome_options)\n",
    "url = 'https://www.food.com/recipe/chicken-tikka-masala-316620'  # replace with the URL of your website\n",
    "driver.get(url)\n",
    "\n",
    "# find the button and click it\n",
    "button = WebDriverWait(driver, 10).until(EC.presence_of_element_located((By.CLASS_NAME, 'link.facts__nutrition')))\n",
    "button.click()\n",
    "\n",
    "# wait for the modal to appear and extract its HTML\n",
    "time.sleep(15)\n",
    "modal = driver.find_elements(By.CLASS_NAME,'nutrition-modal')\n",
    "modal_html = modal.get_attribute('innerHTML')\n",
    "\n",
    "# extract the nutrition data from the modal HTML\n",
    "modal_soup = BeautifulSoup(modal_html, 'html.parser')\n",
    "nutrition = modal_soup.find('div', {'class': 'modal-content'}).text.strip()\n",
    "print(nutrition)\n",
    "\n",
    "# close the Selenium driver\n",
    "driver.quit()\n"
   ]
  },
  {
   "cell_type": "code",
   "execution_count": 63,
   "metadata": {},
   "outputs": [
    {
     "data": {
      "text/plain": [
       "[]"
      ]
     },
     "execution_count": 63,
     "metadata": {},
     "output_type": "execute_result"
    }
   ],
   "source": [
    "modal"
   ]
  },
  {
   "cell_type": "code",
   "execution_count": 56,
   "metadata": {},
   "outputs": [],
   "source": [
    "calories = soup.find('p', {'class': 'recipe-nutrition__item', 'class': 'bold', 'text': 'Calories:'})\n",
    "if calories:\n",
    "    calories_value = calories.find_next_sibling('p').text.strip()\n",
    "    print('Calories:', calories_value)"
   ]
  },
  {
   "cell_type": "code",
   "execution_count": 58,
   "metadata": {},
   "outputs": [
    {
     "name": "stdout",
     "output_type": "stream",
     "text": [
      "None\n"
     ]
    }
   ],
   "source": [
    "print(calories)"
   ]
  }
 ],
 "metadata": {
  "kernelspec": {
   "display_name": "venv",
   "language": "python",
   "name": "python3"
  },
  "language_info": {
   "codemirror_mode": {
    "name": "ipython",
    "version": 3
   },
   "file_extension": ".py",
   "mimetype": "text/x-python",
   "name": "python",
   "nbconvert_exporter": "python",
   "pygments_lexer": "ipython3",
   "version": "3.11.5"
  }
 },
 "nbformat": 4,
 "nbformat_minor": 2
}
