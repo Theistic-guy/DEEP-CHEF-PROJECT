{
 "cells": [
  {
   "cell_type": "code",
   "execution_count": 72,
   "metadata": {},
   "outputs": [
    {
     "data": {
      "text/plain": [
       "'new line in ingredients\\n'"
      ]
     },
     "execution_count": 72,
     "metadata": {},
     "output_type": "execute_result"
    }
   ],
   "source": [
    "\"\"\"new line in ingredients\n",
    "\"\"\""
   ]
  },
  {
   "cell_type": "code",
   "execution_count": 73,
   "metadata": {},
   "outputs": [],
   "source": [
    "import os\n",
    "import shutil\n",
    "import requests\n",
    "import pandas as pd\n",
    "from bs4 import BeautifulSoup\n",
    "import re\n",
    "import json"
   ]
  },
  {
   "cell_type": "code",
   "execution_count": 74,
   "metadata": {},
   "outputs": [],
   "source": [
    "def getingredients(soup):\n",
    "    ingredients=soup.find_all('ul',{'class':\"ingredient-list\"})\n",
    "    ing=\"\"\n",
    "    for ingredient in ingredients:\n",
    "        for li in ingredient.find_all('li'):\n",
    "            if li.find('h4'):\n",
    "                #current_heading = li.find('h4').text.strip()  # update the current heading\n",
    "                continue\n",
    "            ingredient_text = ''\n",
    "            for span in li.find_all('span', {'class': 'ingredient-text'}):\n",
    "                #ingredient_text += span.text.strip()\n",
    "                ingredient_text += span.get_text(separator=' ', strip=True) + ' '\n",
    "            for quantity in li.find_all('span', {'class': 'ingredient-quantity'}):\n",
    "                ingredient_text = quantity.text.strip() + \" \" + ingredient_text\n",
    "            ing+=ingredient_text.strip()+\"\\n\"\n",
    "    return ing"
   ]
  },
  {
   "cell_type": "code",
   "execution_count": 75,
   "metadata": {},
   "outputs": [],
   "source": [
    "#print(getingredients(soup))"
   ]
  },
  {
   "cell_type": "code",
   "execution_count": 76,
   "metadata": {},
   "outputs": [],
   "source": [
    "def getcookingtime(soup):\n",
    "    duration=\"\"\n",
    "    c_time=soup.find_all('div',{'class':\"facts\"})\n",
    "    for c in c_time:\n",
    "        c1=c.find('div',{'class':\"facts__item\"})\n",
    "        cooking_time=c1.find('dd',{'class':\"facts__value\"})\n",
    "        duration+=cooking_time.text\n",
    "    return duration    "
   ]
  },
  {
   "cell_type": "code",
   "execution_count": 77,
   "metadata": {},
   "outputs": [],
   "source": [
    "#print(getcookingtime(soup))"
   ]
  },
  {
   "cell_type": "code",
   "execution_count": 78,
   "metadata": {},
   "outputs": [],
   "source": [
    "def getdirections(soup):\n",
    "    layout=soup.find('div',{'class':\"current-recipe\"})\n",
    "    u_list=layout.find('ul',{'class':\"direction-list\"})\n",
    "    list_items=u_list.find_all('li',{'class':\"direction\"})\n",
    "    directions=\"\"\n",
    "    for list_item in list_items:\n",
    "        directions+=list_item.text + \"\\n\"\n",
    "    return directions\n",
    "#print(getdirections(soup))\n",
    "    "
   ]
  },
  {
   "cell_type": "code",
   "execution_count": 79,
   "metadata": {},
   "outputs": [],
   "source": [
    "def getcalories(soup):\n",
    "    calories = soup.find('script', type='application/ld+json').string\n",
    "    calories = json.loads(calories)[\"nutrition\"][\"calories\"]\n",
    "    return calories"
   ]
  },
  {
   "cell_type": "code",
   "execution_count": 80,
   "metadata": {},
   "outputs": [],
   "source": [
    "def getservings(soup):\n",
    "    serving=\"\"\n",
    "    sv=soup.find_all('div',{'class':\"facts\"})\n",
    "    for s in sv:\n",
    "        c1=s.find_all('div',{'class':\"facts__item\"})\n",
    "        for c in c1:\n",
    "            serve=c.find('dd',{'class':\"facts__value\"})\n",
    "            #serve_find=serve.find('div',{'class':\"adjust\"})\n",
    "            if(serve.find('div',{'class':\"adjust\"})):\n",
    "                serve_count=serve.find('div',{'class':\"adjust\"}).find('span',{'class':\"value\"}).text\n",
    "                serving+=serve_count\n",
    "                return serving\n",
    "            else:\n",
    "                continue    \n",
    "#print(getservings(soup))            "
   ]
  },
  {
   "cell_type": "code",
   "execution_count": 81,
   "metadata": {},
   "outputs": [],
   "source": [
    "def getservings(soup):\n",
    "    serving=\"\"\n",
    "    sv=soup.find_all('div',{'class':\"facts\"})\n",
    "    for s in sv:\n",
    "        c1=s.find_all('div',{'class':\"facts__item\"})\n",
    "        for c in c1:\n",
    "            serve=c.find('dd',{'class':\"facts__value\"})\n",
    "            #serve_find=serve.find('div',{'class':\"adjust\"})\n",
    "            if(serve.find('span',{'class':\"value\"})):\n",
    "                serve_count=serve.find('span',{'class':\"value\"}).text.strip()[0]\n",
    "                serving+=serve_count\n",
    "            else:\n",
    "                continue \n",
    "    return serve_count"
   ]
  },
  {
   "cell_type": "markdown",
   "metadata": {},
   "source": [
    "Encoidng main function"
   ]
  },
  {
   "cell_type": "code",
   "execution_count": 82,
   "metadata": {},
   "outputs": [],
   "source": [
    "def scrape(name,url):\n",
    "    page=requests.get(url)\n",
    "    soup=BeautifulSoup(page.content,'html.parser')\n",
    "    dict={'name': name, 'cooking_time': getcookingtime(soup), 'calories': getcalories(soup), 'servings': getservings(soup),\n",
    "             'ingredients': getingredients(soup), 'directions': getdirections(soup)}\n",
    "    return dict\n",
    "    "
   ]
  },
  {
   "cell_type": "code",
   "execution_count": 88,
   "metadata": {},
   "outputs": [],
   "source": [
    "def main():\n",
    "    links=pd.read_csv(r\"C:\\Users\\Aarush Raj\\OneDrive\\Desktop\\img2rec\\DEEP-CHEF-PROJECT\\links.csv\")\n",
    "    name=links[\"name\"]\n",
    "    url=links[\"link\"]\n",
    "    recipe_info=[]\n",
    "    for item in range(2):\n",
    "        recipe_info.append(scrape(name[item],url[item]))\n",
    "    #return recipe_info\n",
    "    \n",
    "    with open('recipes.json', 'r+') as f:             # write the scraped data to a JSON file\n",
    "        json.dump(recipe_info, f)\n",
    "        \n",
    "if __name__ == \"__main__\":\n",
    "    main()\n",
    "    "
   ]
  },
  {
   "cell_type": "code",
   "execution_count": 89,
   "metadata": {},
   "outputs": [
    {
     "name": "stdout",
     "output_type": "stream",
     "text": [
      "[{\"name\": \"Chicken Tikka Masala\", \"cooking_time\": \"2hrs\", \"calories\": \"499.1\", \"servings\": \"4\", \"ingredients\": \"1 1\\u20442 lbs boneless skinless chicken , cut in 1 inch cubes\\n1 cup plain yogurt\\n2 tablespoons lemon juice\\n2 teaspoons ground cumin\\n2 teaspoons    ground red pepper\\n2 teaspoons black pepper\\n1 teaspoon cinnamon\\n1 teaspoon salt\\n1 piece    minced ginger (1-inch long)\\n6 bamboo skewers (6-inch)\\n1 tablespoon unsalted butter\\n2 garlic cloves , minced\\n1 jalapeno chile , minced\\n2 teaspoons ground coriander\\n1 teaspoon ground cumin\\n1 teaspoon paprika\\n1 teaspoon garam masala (buy in Indian market)\\n1\\u20442 teaspoon salt\\n1 (8   ounce) can tomato sauce\\n1 cup    whipping cream\\n1\\u20444 cup   chopped fresh cilantro\\n\", \"directions\": \"Soak bamboo skewers in water.\\nThread chicken on skewers, and marinate (in the refrigerator) for an hour or so.\\nDiscard marinade.\\nFor sauce, melt butter on medium heat.\\nAdd garlic & jalapeno; cook 1 minute.\\nStir in coriander, cumin, paprika, garam masala & salt.\\nStir in tomato sauce.\\nSimmer 15 minutes.\\nStir in cream; simmer to thicken- about 5 minutes.\\nGrill or broil chicken, turning occasionally, to cook through- about 8 minutes.\\nRemove chicken from skewers; add to sauce.\\nSimmer 5 minutes.\\nGarnish with cilantro Serve with basmati rice, naan or pita bread.\\nNote: You can make your own garam masala. McCormick also makes garam masala; it's available in super markets.\\n\"}, {\"name\": \"Naan\", \"cooking_time\": \"40mins\", \"calories\": \"213.1\", \"servings\": \"1\", \"ingredients\": \"4 cups flour\\n1 teaspoon baking powder\\n1 teaspoon salt\\n2 cups plain low-fat yogurt\\n\", \"directions\": \"Mix together flour, baking powder and salt.\\r\\nStir in the yogurt till the dough is too stiff for a spoon, then knead it in the bowl till it holds together well, adding more flour if necessary.\\r\\nTurn it out on a floured surface and continue kneading for about 5 minutes till the dough feels smooth and elastic.\\r\\nForm the dough into a ball and put it in an oiled bowl, covered with a towel, to rest for an hour or longer.\\r\\nTake the dough out and cut it into 10 equal pieces. Form each into a ball and press the balls flat into round discs.\\r\\nHeat a large frying pan or griddle, either seasoned cast iron or a good non-stick finish.  \\r\\nHeat your oven to about 500 and have the broiler on (this is how the original recipe states it - I know with my oven it's either 500 degree oven OR the broiler, but you get the idea.\\r\\nTake 1 piece of dough at a time and roll it out on a floured surface till it is about 8-10 inches across and less than 1/4 inch thick.  \\r\\nLay it on the hot griddle and cook it over a medium heat for 4-5 minutes (I don't think mine took that long). \\r\\nIt will puff up in places or all over, and there will be some blackish-brown spots on the bottom.\\r\\nSlide a spatula under the naan and transfer it to the oven, directly onto the rack, for a minute or two, just till it finishes puffing up into a balloon and begins to color lightly on top.  \\r\\nRemove naan from the oven and brush it lightly with melted butter if you like.\\r\\nContinue this way with all the dough, stacking the breads into a napkin-lined basket.  \\r\\nServe the breads hot, fresh from the oven, or let them cool and wrap them up.\\r\\nTo reheat, wrap them in aluminum foil, in packets of 4 or 5 breads and put them in a 400 degree oven for 10-15 minutes.\\n\"}]\n"
     ]
    }
   ],
   "source": [
    "with open('recipes.json','r') as d:\n",
    "    firstline=d.readline()\n",
    "    print(firstline)"
   ]
  }
 ],
 "metadata": {
  "kernelspec": {
   "display_name": "venv",
   "language": "python",
   "name": "python3"
  },
  "language_info": {
   "codemirror_mode": {
    "name": "ipython",
    "version": 3
   },
   "file_extension": ".py",
   "mimetype": "text/x-python",
   "name": "python",
   "nbconvert_exporter": "python",
   "pygments_lexer": "ipython3",
   "version": "3.11.5"
  }
 },
 "nbformat": 4,
 "nbformat_minor": 2
}
