{
 "cells": [
  {
   "cell_type": "code",
   "execution_count": 1,
   "metadata": {},
   "outputs": [
    {
     "data": {
      "text/plain": [
       "'new line in ingredients\\n'"
      ]
     },
     "execution_count": 1,
     "metadata": {},
     "output_type": "execute_result"
    }
   ],
   "source": [
    "\"\"\"new line in ingredients\n",
    "\"\"\""
   ]
  },
  {
   "cell_type": "code",
   "execution_count": 2,
   "metadata": {},
   "outputs": [],
   "source": [
    "import os\n",
    "import shutil\n",
    "import requests\n",
    "import pandas as pd\n",
    "from bs4 import BeautifulSoup\n",
    "import re\n",
    "import json"
   ]
  },
  {
   "cell_type": "code",
   "execution_count": 3,
   "metadata": {},
   "outputs": [],
   "source": [
    "url=\"https://www.food.com/recipe/chicken-tikka-masala-316620\"\n",
    "page=requests.get(url)\n",
    "soup=BeautifulSoup(page.content,'html.parser')"
   ]
  },
  {
   "cell_type": "code",
   "execution_count": null,
   "metadata": {},
   "outputs": [],
   "source": [
    "def getingredients(soup):\n",
    "    ingredients=soup.find_all('ul',{'class':\"ingredient-list\"})\n",
    "    ing=\"\"\n",
    "    for ingredient in ingredients:\n",
    "        for li in ingredient.find_all('li'):\n",
    "            if li.find('h4'):\n",
    "                #current_heading = li.find('h4').text.strip()  # update the current heading\n",
    "                continue\n",
    "            ingredient_text = ''\n",
    "            for span in li.find_all('span', {'class': 'ingredient-text'}):\n",
    "                #ingredient_text += span.text.strip()\n",
    "                ingredient_text += span.get_text(separator=' ', strip=True) + ' '\n",
    "            for quantity in li.find_all('span', {'class': 'ingredient-quantity'}):\n",
    "                ingredient_text = quantity.text.strip() + \" \" + ingredient_text\n",
    "            ing+=ingredient_text.strip()+\"\\n\"\n",
    "    return ing"
   ]
  },
  {
   "cell_type": "code",
   "execution_count": 20,
   "metadata": {},
   "outputs": [
    {
     "name": "stdout",
     "output_type": "stream",
     "text": [
      "1⁄2 teaspoon ground cumin\n",
      "1⁄2 teaspoon ground coriander\n",
      "1⁄4 teaspoon cayenne pepper\n",
      "1 teaspoon table salt\n",
      "2 lbs boneless skinless chicken breasts\n",
      "1 cup plain yogurt (see note)\n",
      "2 tablespoons    vegetable oil\n",
      "2 medium garlic cloves , minced\n",
      "1 tablespoon   grated fresh ginger\n",
      "3 tablespoons    vegetable oil\n",
      "1 medium onion , diced fine  (about 1 1/4 cups)\n",
      "2 medium garlic cloves , minced\n",
      "2 teaspoons   grated fresh ginger\n",
      "1 fresh serrano chili , ribs and seeds removed, flesh minced  (see note)\n",
      "1 tablespoon tomato paste\n",
      "1 tablespoon garam masala (see note)\n",
      "1 (28   ounce) can crushed tomatoes\n",
      "2 teaspoons sugar\n",
      "1⁄2 teaspoon table salt\n",
      "2⁄3 cup heavy cream\n",
      "1⁄4 cup   chopped fresh cilantro leaves\n",
      "\n"
     ]
    }
   ],
   "source": [
    "print(getingredients(soup))"
   ]
  },
  {
   "cell_type": "code",
   "execution_count": 6,
   "metadata": {},
   "outputs": [],
   "source": [
    "def getcookingtime(soup):\n",
    "    duration=\"\"\n",
    "    c_time=soup.find_all('div',{'class':\"facts\"})\n",
    "    c_time\n",
    "    for c in c_time:\n",
    "        c1=c.find('div',{'class':\"facts__item\"})\n",
    "        cooking_time=c1.find('dd',{'class':\"facts__value\"})\n",
    "        duration+=cooking_time.text\n",
    "    return duration    "
   ]
  },
  {
   "cell_type": "code",
   "execution_count": 21,
   "metadata": {},
   "outputs": [
    {
     "name": "stdout",
     "output_type": "stream",
     "text": [
      "1hr 10mins\n"
     ]
    }
   ],
   "source": [
    "print(getcookingtime(soup))"
   ]
  },
  {
   "cell_type": "code",
   "execution_count": 17,
   "metadata": {},
   "outputs": [
    {
     "name": "stdout",
     "output_type": "stream",
     "text": [
      "This dish is best when prepared with whole-milk yogurt, but low-fat yogurt can be substituted. For a spicier dish, do not remove the ribs and seeds from the chile. If you prefer, substitute 2 teaspoons ground coriander, 1/4 teaspoon ground cardamom, 1/4 teaspoon ground cinnamon, and 1/2 teaspoon ground black pepper for the garam masala. The sauce can be made ahead, refrigerated for up to 4 days in an airtight container, and gently reheated before adding the hot chicken. Serve with basmati rice.\n",
      "FOR THE CHICKEN: Combine cumin, coriander, cayenne, and salt in small bowl. Sprinkle both sides of chicken with spice mixture, pressing gently so mixture adheres. Place chicken on plate, cover with plastic wrap, and refrigerate for 30 to 60 minutes. In large bowl, whisk together yogurt, oil, garlic, and ginger; set aside.\n",
      "FOR THE SAUCE: Heat oil in large Dutch oven over medium heat until shimmering. Add onion and cook, stirring frequently, until light golden, 8 to 10 minutes. Add garlic, ginger, chile, tomato paste, and garam masala; cook, stirring frequently, until fragrant, about 3 minutes. Add crushed tomatoes, sugar, and salt; bring to boil. Reduce heat to medium-low, cover, and simmer for 15 minutes, stirring occasionally. Stir in cream and return to simmer. Remove pan from heat and cover to keep warm.\n",
      "While sauce simmers, adjust oven rack to upper-middle position (about 6 inches from heating element) and heat broiler. Using tongs, dip chicken into yogurt mixture (chicken should be coated with thick layer of yogurt) and arrange on wire rack set in foil-lined rimmed baking sheet or broiler pan. Discard excess yogurt mixture. Broil chicken until thickest parts register 160 degrees on instant-read thermometer and exterior is lightly charred in spots, 10 to 18 minutes, flipping chicken halfway through cooking.\n",
      "Let chicken rest 5 minutes, then cut into 1-inch chunks and stir into warm sauce (do not simmer chicken in sauce). Stir in cilantro, adjust seasoning with salt, and serve.\n",
      "\n"
     ]
    }
   ],
   "source": [
    "def getdirections(soup):\n",
    "    layout=soup.find('div',{'class':\"current-recipe\"})\n",
    "    u_list=layout.find('ul',{'class':\"direction-list\"})\n",
    "    list_items=u_list.find_all('li',{'class':\"direction\"})\n",
    "    directions=\"\"\n",
    "    for list_item in list_items:\n",
    "        directions+=list_item.text + \"\\n\"\n",
    "    return directions\n",
    "print(getdirections(soup))\n",
    "    "
   ]
  },
  {
   "cell_type": "code",
   "execution_count": 9,
   "metadata": {},
   "outputs": [
    {
     "data": {
      "text/plain": [
       "[]"
      ]
     },
     "execution_count": 9,
     "metadata": {},
     "output_type": "execute_result"
    }
   ],
   "source": [
    "nutrition_wrappers=soup.find_all('div',{'class':\"recipe-nutrition\"})\n",
    "for wrapper in nutrition_wrappers:\n",
    "    wrapper_section=wrapper.find('section',{'class':\"recipe-nutrition__info\"})\n",
    "nutrition_wrappers"
   ]
  },
  {
   "cell_type": "code",
   "execution_count": null,
   "metadata": {},
   "outputs": [],
   "source": [
    "from selenium import webdriver\n",
    "from selenium.webdriver.common.by import By\n",
    "from selenium.webdriver.support.ui import WebDriverWait\n",
    "from selenium.webdriver.support import expected_conditions as EC\n",
    "from selenium.webdriver.common.keys import Keys\n",
    "from selenium.webdriver.chrome.options import Options\n",
    "import time\n",
    "\n",
    "PATH=\"C:\\\\Users\\\\Aarush Raj\\\\OneDrive\\\\Desktop\\\\img2rec\\\\venv\\\\chromedriver.exe\"\n",
    "chrome_service=webdriver.ChromeService(executable_path=PATH)\n",
    "chrome_options=Options()\n",
    "chrome_options.add_experimental_option(\"detach\",True)\n",
    "\n",
    "# set up the Selenium driver\n",
    "driver = webdriver.Chrome(service=chrome_service,options=chrome_options)\n",
    "url = 'https://www.food.com/recipe/chicken-tikka-masala-316620'  # replace with the URL of your website\n",
    "driver.get(url)\n",
    "\n",
    "# find the button and click it\n",
    "button = WebDriverWait(driver, 10).until(EC.presence_of_element_located((By.CLASS_NAME, 'link.facts__nutrition')))\n",
    "button.click()\n",
    "\n",
    "# wait for the modal to appear and extract its HTML\n",
    "time.sleep(15)\n",
    "modal = driver.find_elements(By.CLASS_NAME,'nutrition-modal')\n",
    "modal_html = modal.get_attribute('innerHTML')\n",
    "\n",
    "# extract the nutrition data from the modal HTML\n",
    "modal_soup = BeautifulSoup(modal_html, 'html.parser')\n",
    "nutrition = modal_soup.find('div', {'class': 'modal-content'}).text.strip()\n",
    "print(nutrition)\n",
    "\n",
    "# close the Selenium driver\n",
    "driver.quit()\n"
   ]
  },
  {
   "cell_type": "code",
   "execution_count": null,
   "metadata": {},
   "outputs": [],
   "source": [
    "calories = soup.find('p', {'class': 'recipe-nutrition__item', 'class': 'bold', 'text': 'Calories:'})\n",
    "if calories:\n",
    "    calories_value = calories.find_next_sibling('p').text.strip()\n",
    "    print('Calories:', calories_value)"
   ]
  }
 ],
 "metadata": {
  "kernelspec": {
   "display_name": "venv",
   "language": "python",
   "name": "python3"
  },
  "language_info": {
   "codemirror_mode": {
    "name": "ipython",
    "version": 3
   },
   "file_extension": ".py",
   "mimetype": "text/x-python",
   "name": "python",
   "nbconvert_exporter": "python",
   "pygments_lexer": "ipython3",
   "version": "3.11.5"
  }
 },
 "nbformat": 4,
 "nbformat_minor": 2
}
