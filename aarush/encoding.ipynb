{
 "cells": [
  {
   "cell_type": "code",
   "execution_count": 20,
   "metadata": {},
   "outputs": [],
   "source": [
    "import os\n",
    "import numpy as np\n",
    "from keras.preprocessing import image\n",
    "from keras.applications import densenet\n",
    "import keras\n",
    "import pickle\n",
    "from scipy.spatial.distance import cosine\n",
    "from PIL import Image\n"
   ]
  },
  {
   "cell_type": "code",
   "execution_count": 21,
   "metadata": {},
   "outputs": [],
   "source": [
    "model = densenet.DenseNet201(include_top=False, weights='imagenet', input_shape=(256, 256, 3),pooling='avg',classes= 358)"
   ]
  },
  {
   "cell_type": "code",
   "execution_count": 22,
   "metadata": {},
   "outputs": [],
   "source": [
    "def getencodings(path):    \n",
    "    _img = image.load_img(path, target_size=(256, 256))\n",
    "    _img = keras.utils.img_to_array(_img)\n",
    "    _img = np.expand_dims(_img, axis=0)\n",
    "    _enc = densenet.preprocess_input(_img)\n",
    "    _enc = model.predict(_enc)\n",
    "    return _enc"
   ]
  },
  {
   "cell_type": "code",
   "execution_count": null,
   "metadata": {},
   "outputs": [],
   "source": [
    "if __name__ == '__main__':\n",
    "    train_folder=r\"C:\\Users\\Aarush Raj\\OneDrive\\Desktop\\img2rec\\DEEP-CHEF-PROJECT\\downloaded_images\\train\"\n",
    "    test_folder=r\"C:\\Users\\Aarush Raj\\OneDrive\\Desktop\\img2rec\\DEEP-CHEF-PROJECT\\downloaded_images\\test\"\n",
    "    recipes_list=os.listdir(train_folder)\n",
    "    recipes_list.sort(key=lambda item:int(item.split(\"_\")[0]))\n",
    "    train_names_list=os.listdir(train_folder)\n",
    "    test_names_list=os.listdir(test_folder)\n",
    "    encodings_list = []\n",
    "    recipe_list=[]\n",
    "    c = 0\n",
    "    for i in range(len(recipes_list)):\n",
    "        name=recipes_list[i]\n",
    "        recipe_name=name.split(\"_\")[1]\n",
    "        recipe_index=name.split(\"_\")[0]\n",
    "        train_path=os.path.join(train_folder,name)\n",
    "        train_names_list=os.listdir(train_path)\n",
    "        for train_name in train_names_list:\n",
    "            image_path=os.path.join(train_path,train_name)\n",
    "            encoding = getencodings(image_path)\n",
    "            encodings_list.append(encoding)\n",
    "            recipe_list.append(name)\n",
    "        test_path=os.path.join(test_folder,name)\n",
    "        test_names_list=os.listdir(test_path)    \n",
    "        for test_name in test_names_list:\n",
    "            image_path=os.path.join(test_path,test_name)\n",
    "            encoding = getencodings(image_path)\n",
    "            encodings_list.append(encoding)\n",
    "            recipe_list.append(name)\n",
    "    print(len(recipe_list), len(encodings_list))\n",
    "\n",
    "    with open(r'C:\\Users\\Aarush Raj\\OneDrive\\Desktop\\img2rec\\DEEP-CHEF-PROJECT\\aarush\\encodings.txt', 'wb') as file:\n",
    "        pickle.dump(encodings_list, file)\n",
    "    with open(r'C:\\Users\\Aarush Raj\\OneDrive\\Desktop\\img2rec\\DEEP-CHEF-PROJECT\\aarush\\enc_names.txt', 'wb') as file:\n",
    "        pickle.dump(recipe_list, file)"
   ]
  },
  {
   "cell_type": "markdown",
   "metadata": {},
   "source": [
    "just checking"
   ]
  },
  {
   "cell_type": "code",
   "execution_count": null,
   "metadata": {},
   "outputs": [
    {
     "name": "stdout",
     "output_type": "stream",
     "text": [
      "\u001b[1m1/1\u001b[0m \u001b[32m━━━━━━━━━━━━━━━━━━━━\u001b[0m\u001b[37m\u001b[0m \u001b[1m0s\u001b[0m 193ms/step\n"
     ]
    },
    {
     "data": {
      "text/plain": [
       "array([[9.7090713e-05, 7.5560465e-04, 1.5090167e-03, ..., 2.7459392e-01,\n",
       "        1.9984721e-01, 1.2217317e-01]], dtype=float32)"
      ]
     },
     "execution_count": 17,
     "metadata": {},
     "output_type": "execute_result"
    }
   ],
   "source": [
    "_img = image.load_img(r\"C:\\Users\\Aarush Raj\\OneDrive\\Desktop\\img2rec\\DEEP-CHEF-PROJECT\\downloaded_images\\test\\1_Naan\\9_Naan.jpg\", target_size=(256, 256))\n",
    "_img = keras.utils.img_to_array(_img)\n",
    "_img = np.expand_dims(_img, axis=0)\n",
    "_enc = densenet.preprocess_input(_img)\n",
    "_enc = model.predict(_enc)\n",
    "_enc"
   ]
  },
  {
   "cell_type": "code",
   "execution_count": null,
   "metadata": {},
   "outputs": [
    {
     "name": "stdout",
     "output_type": "stream",
     "text": [
      "['hello', 'test', 'train']\n"
     ]
    }
   ],
   "source": [
    "print(os.listdir(r\"C:\\Users\\Aarush Raj\\OneDrive\\Desktop\\img2rec\\DEEP-CHEF-PROJECT\\downloaded_images\"))"
   ]
  },
  {
   "cell_type": "markdown",
   "metadata": {},
   "source": [
    "just checking"
   ]
  },
  {
   "cell_type": "code",
   "execution_count": null,
   "metadata": {},
   "outputs": [
    {
     "name": "stdout",
     "output_type": "stream",
     "text": [
      "\u001b[1m1/1\u001b[0m \u001b[32m━━━━━━━━━━━━━━━━━━━━\u001b[0m\u001b[37m\u001b[0m \u001b[1m0s\u001b[0m 291ms/step\n",
      "[[9.1914306e-05 5.8829499e-04 1.2086974e-03 ... 7.5686830e-01\n",
      "  6.8234848e-03 7.4211019e-04]]\n"
     ]
    }
   ],
   "source": [
    "img = image.load_img(r\"C:\\Users\\Aarush Raj\\OneDrive\\Desktop\\img2rec\\DEEP-CHEF-PROJECT\\downloaded_images\\train\\1_Naan\\2_Naan.jpg\", target_size=(256, 256))\n",
    "img = keras.utils.img_to_array(img)\n",
    "img = np.expand_dims(img, axis=0)\n",
    "enc = densenet.preprocess_input(img)\n",
    "enc = model.predict(enc)\n",
    "print(enc)"
   ]
  },
  {
   "cell_type": "code",
   "execution_count": null,
   "metadata": {},
   "outputs": [
    {
     "name": "stdout",
     "output_type": "stream",
     "text": [
      "\u001b[1m1/1\u001b[0m \u001b[32m━━━━━━━━━━━━━━━━━━━━\u001b[0m\u001b[37m\u001b[0m \u001b[1m0s\u001b[0m 222ms/step\n",
      "[[1.3076351e-04 3.2538065e-04 1.4036527e-03 ... 5.8270401e-01\n",
      "  1.1677598e-02 9.1031656e-02]]\n"
     ]
    }
   ],
   "source": [
    "img1 = image.load_img(r\"C:\\Users\\Aarush Raj\\OneDrive\\Desktop\\img2rec\\DEEP-CHEF-PROJECT\\downloaded_images\\train\\1_Naan\\5_Naan.jpg\", target_size=(256, 256))\n",
    "img1 = keras.utils.img_to_array(img1)\n",
    "img1 = np.expand_dims(img1, axis=0)\n",
    "enc1 = densenet.preprocess_input(img1)\n",
    "enc1 = model.predict(enc1)\n",
    "print(enc1)"
   ]
  },
  {
   "cell_type": "code",
   "execution_count": null,
   "metadata": {},
   "outputs": [
    {
     "name": "stdout",
     "output_type": "stream",
     "text": [
      "0.38520339248235214 0.39427060395575675 0.38686255295183825 0.38686255295183825\n"
     ]
    }
   ],
   "source": [
    "similarity=cosine(_enc[0],enc[0])\n",
    "s1=cosine(_enc[0],enc1[0])\n",
    "s2=cosine(enc[0],enc1[0])\n",
    "s3=cosine(enc1[0],enc[0])\n",
    "print(similarity,s1,s2,s3)"
   ]
  },
  {
   "cell_type": "code",
   "execution_count": null,
   "metadata": {},
   "outputs": [
    {
     "name": "stdout",
     "output_type": "stream",
     "text": [
      "\u001b[1m1/1\u001b[0m \u001b[32m━━━━━━━━━━━━━━━━━━━━\u001b[0m\u001b[37m\u001b[0m \u001b[1m0s\u001b[0m 177ms/step\n",
      "[[6.5320186e-05 4.3773686e-04 1.4675669e-03 ... 1.0696392e+00\n",
      "  2.8892964e-02 3.2143086e-02]]\n",
      "\u001b[1m1/1\u001b[0m \u001b[32m━━━━━━━━━━━━━━━━━━━━\u001b[0m\u001b[37m\u001b[0m \u001b[1m0s\u001b[0m 288ms/step\n",
      "[[1.1759455e-04 4.8694725e-04 1.9708984e-03 ... 1.1663135e+00\n",
      "  9.2119738e-02 1.7724106e-02]]\n",
      "0.16504474276782277\n"
     ]
    }
   ],
   "source": [
    "img7 = image.load_img(r\"C:\\Users\\Aarush Raj\\OneDrive\\Desktop\\img2rec\\DEEP-CHEF-PROJECT\\downloaded_images\\train\\1_Naan\\7_Naan.jpg\", target_size=(256, 256))\n",
    "img7 = keras.utils.img_to_array(img7)\n",
    "img7 = np.expand_dims(img7, axis=0)\n",
    "enc7 = densenet.preprocess_input(img7)\n",
    "enc7 = model.predict(enc7)\n",
    "print(enc7)\n",
    "\n",
    "img3 = image.load_img(r\"C:\\Users\\Aarush Raj\\OneDrive\\Desktop\\img2rec\\DEEP-CHEF-PROJECT\\downloaded_images\\train\\1_Naan\\3_Naan.jpg\", target_size=(256, 256))\n",
    "img3 = keras.utils.img_to_array(img3)\n",
    "img3 = np.expand_dims(img3, axis=0)\n",
    "enc3 = densenet.preprocess_input(img3)\n",
    "enc3 = model.predict(enc3)\n",
    "print(enc3)\n",
    "\n",
    "print(cosine(enc3[0],enc7[0]))"
   ]
  },
  {
   "cell_type": "code",
   "execution_count": null,
   "metadata": {},
   "outputs": [
    {
     "name": "stdout",
     "output_type": "stream",
     "text": [
      "<class 'numpy.ndarray'>\n",
      "1920\n",
      "1920\n",
      "1.6126285e-05\n"
     ]
    }
   ],
   "source": [
    "print(type(_enc))\n",
    "print(len(_enc[0]))\n",
    "print(len(enc[0]))\n",
    "print(_enc[0][156])"
   ]
  },
  {
   "cell_type": "code",
   "execution_count": 12,
   "metadata": {},
   "outputs": [
    {
     "name": "stdout",
     "output_type": "stream",
     "text": [
      "\u0004\u0001I\u0000\u0000\u0000\u0000\u0000\u0000](\u00160_Chicken Tikka Masalah\u0001h\u0001h\u0001h\u0001h\u0001h\u0001h\u0001h\u0001h\u0001\u00061_Naanh\u0002h\u0002h\u0002h\u0002h\u0002h\u0002h\u0002h\u0002h\u0002\u000f2_Chicken Curryh\u0003h\u0003h\u0003h\u0003h\u0003h\u0003h\u0003h\u0003h\u0003\u000b3_Aloo Gobih\u0004h\u0004h\u0004h\u0004h\u0004h\u0004h\u0004h\u0004\u001c4_Crock Pot Chicken Vindalooh\u0005h\u0005h\u0005h\u0005h\u0005h\u0005h\u0005h\u0005h\u0005\u00185_Potato Curry Chickpeash\u0006h\u0006h\u0006h\u0006h\u0006h\u0006h\u0006h\u0006h\u0006\u000f6_Channa Masalah\u0007h\u0007h\u0007h\u0007h\u0007h\u0007h\u0007h\u0007h\u0007)7_Chicken Makhani (Indian Butter Chicken)\u001b8_Spicy Shrimp Coconut Milkh\th\th\th\th\th\th\th\th\t\u000e9_Palak Paneerh\n",
      "\n"
     ]
    }
   ],
   "source": [
    "with open(r\"C:\\Users\\Aarush Raj\\OneDrive\\Desktop\\img2rec\\DEEP-CHEF-PROJECT\\aarush\\enc_names.txt\",encoding=\"utf-8\",errors=\"ignore\") as f:\n",
    "    d=f.readline()\n",
    "    print(d)"
   ]
  },
  {
   "cell_type": "code",
   "execution_count": 6,
   "metadata": {},
   "outputs": [
    {
     "name": "stdout",
     "output_type": "stream",
     "text": [
      "['0_Chicken Tikka Masala', '100_Indian Fry Bread', '101_Shrimp Vindaloo', '102_Masala chai', '103_Basmati Pulao nuts']\n",
      "['0', '100', '101', '102', '103']\n"
     ]
    }
   ],
   "source": [
    "import os\n",
    "lis=os.listdir(r\"C:\\Users\\Aarush Raj\\OneDrive\\Desktop\\img2rec\\DEEP-CHEF-PROJECT\\downloaded_images\\train\")\n",
    "rec=[x.split(\"_\")[0] for x in lis]\n",
    "print(lis[0:5])\n",
    "print(rec[0:5])\n"
   ]
  },
  {
   "cell_type": "code",
   "execution_count": 1,
   "metadata": {},
   "outputs": [
    {
     "name": "stdout",
     "output_type": "stream",
     "text": [
      "\u001b[1m1/1\u001b[0m \u001b[32m━━━━━━━━━━━━━━━━━━━━\u001b[0m\u001b[37m\u001b[0m \u001b[1m14s\u001b[0m 14s/step\n",
      "_\n"
     ]
    }
   ],
   "source": [
    "from encoder import getrecipes\n",
    "l=getrecipes(r\"C:\\Users\\Aarush Raj\\OneDrive\\Desktop\\img2rec\\DEEP-CHEF-PROJECT\\downloaded_images\\train\\9_Palak Paneer\\8_Palak Paneer.jpg\")\n",
    "print(l[0].strip(\"_\")[1])"
   ]
  },
  {
   "cell_type": "code",
   "execution_count": 4,
   "metadata": {},
   "outputs": [
    {
     "name": "stdout",
     "output_type": "stream",
     "text": [
      "Palak Paneer\n"
     ]
    }
   ],
   "source": [
    "print(l[0].split(\"_\")[1])"
   ]
  },
  {
   "cell_type": "code",
   "execution_count": 7,
   "metadata": {},
   "outputs": [
    {
     "name": "stdout",
     "output_type": "stream",
     "text": [
      "C:\\Users\\Aarush Raj\\OneDrive\\Desktop\\img2rec\\DEEP-CHEF-PROJECT\\downloaded_images\\train\\9_Palak Paneer\\1_Palak Paneer.jpg\n"
     ]
    }
   ],
   "source": [
    "from PIL import Image\n",
    "name=l[0]\n",
    "recipe_name=name.split(\"_\")[1]\n",
    "image_link=\"C:\\\\Users\\\\Aarush Raj\\\\OneDrive\\\\Desktop\\\\img2rec\\\\DEEP-CHEF-PROJECT\\\\downloaded_images\\\\train\\\\\" + name + \"\\\\1_\" + recipe_name + \".jpg\"\n",
    "print(image_link)\n",
    "image=Image.open(image_link)\n",
    "image.show()"
   ]
  }
 ],
 "metadata": {
  "kernelspec": {
   "display_name": "venv",
   "language": "python",
   "name": "python3"
  },
  "language_info": {
   "codemirror_mode": {
    "name": "ipython",
    "version": 3
   },
   "file_extension": ".py",
   "mimetype": "text/x-python",
   "name": "python",
   "nbconvert_exporter": "python",
   "pygments_lexer": "ipython3",
   "version": "3.11.5"
  }
 },
 "nbformat": 4,
 "nbformat_minor": 2
}
