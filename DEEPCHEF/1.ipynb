{
 "cells": [
  {
   "cell_type": "code",
   "execution_count": 13,
   "metadata": {},
   "outputs": [],
   "source": [
    "import os\n",
    "import requests\n",
    "from bs4 import BeautifulSoup\n",
    "import csv"
   ]
  },
  {
   "cell_type": "code",
   "execution_count": 14,
   "metadata": {},
   "outputs": [],
   "source": [
    "file = open(\"HTML FOOD.COM\",encoding='utf-8')"
   ]
  },
  {
   "cell_type": "code",
   "execution_count": 15,
   "metadata": {},
   "outputs": [
    {
     "data": {
      "text/plain": [
       "'\\n\\n    \\n    <div id=\"vue-leaderboard\"><div><div class=\"dfp-ad__wrap\"><div id=\"dfp_leaderboardvsvGHAXn\" data-dfp-type=\"dfp_leaderboard\"></div></div></div></div>\\n    \\n    <div class=\"fd-site\">\\n        <div class=\"fd-site-wrapper\">\\n\\n            \\n\\n\\n\\n\\n            <script defer=\"\" src=\"/_app/export/siteHeaderExported-deploy-38.js\"></script>            <style>svg.spin{animation:svelte-dgiybl-spin 2s infinite linear}@keyframes svelte-dgiybl-spin{0%{transform:rotate(0deg)}100%{transform:rotate(360deg)}}@media screen and (min-width: 744px){}@media screen and (max-width: 743px){}@media screen and (min-width: 1025px){}@media screen and (max-width: 1024px), print{}:root{--n:4;--margin:16px;--gap:16px}@media screen and (min-width: 744px){:root{--n:6;--margin:32px;--gap:24px}}@media screen and (min-width: 1025px){:root{--n:12;--margin:32px;--gap:32px}}header.svelte-dgiybl.svelte-dgiybl.svelte-dgiybl,button.svelte-dgiybl.svelte-dgiybl.svelte-dgiybl{font-family:var(--fonts-base);font-weight:400;font-siz'"
      ]
     },
     "execution_count": 15,
     "metadata": {},
     "output_type": "execute_result"
    }
   ],
   "source": [
    "data=file.read()\n",
    "data[0:1000]"
   ]
  },
  {
   "cell_type": "code",
   "execution_count": 16,
   "metadata": {},
   "outputs": [],
   "source": [
    "soup=BeautifulSoup(data,'html.parser')"
   ]
  },
  {
   "cell_type": "code",
   "execution_count": 17,
   "metadata": {},
   "outputs": [],
   "source": [
    "content=soup.prettify()\n"
   ]
  },
  {
   "cell_type": "code",
   "execution_count": 18,
   "metadata": {},
   "outputs": [
    {
     "name": "stdout",
     "output_type": "stream",
     "text": [
      "1000\n"
     ]
    }
   ],
   "source": [
    "recipe=soup.find_all('div',{'class':\"fd-tile fd-recipe\"})\n",
    "\n",
    "recipe=recipe[:1000]\n",
    "print(len(recipe))"
   ]
  },
  {
   "cell_type": "code",
   "execution_count": 19,
   "metadata": {},
   "outputs": [
    {
     "name": "stdout",
     "output_type": "stream",
     "text": [
      "0\n"
     ]
    }
   ],
   "source": [
    "recipes=[]\n",
    "print(len(recipes))"
   ]
  },
  {
   "cell_type": "code",
   "execution_count": 20,
   "metadata": {},
   "outputs": [],
   "source": [
    "for dish in recipe:\n",
    "    title = dish.find('h2',{'class':\"title\"}).text\n",
    "    link=dish.find('a', {'href': True})['href']\n",
    "    recipes.append({'name':title,'link':link})\n",
    "    "
   ]
  },
  {
   "cell_type": "code",
   "execution_count": 21,
   "metadata": {},
   "outputs": [
    {
     "name": "stdout",
     "output_type": "stream",
     "text": [
      "1000\n"
     ]
    }
   ],
   "source": [
    "print(len(recipes))"
   ]
  },
  {
   "cell_type": "code",
   "execution_count": 22,
   "metadata": {},
   "outputs": [],
   "source": [
    "with open('recipes.csv', 'w', newline='') as csvfile:\n",
    "  fieldnames = ['name', 'link']\n",
    "  writer = csv.DictWriter(csvfile, fieldnames=fieldnames)\n",
    "  writer.writeheader()\n",
    "  writer.writerows(recipes)\n"
   ]
  },
  {
   "cell_type": "code",
   "execution_count": null,
   "metadata": {},
   "outputs": [],
   "source": []
  }
 ],
 "metadata": {
  "kernelspec": {
   "display_name": "Python 3",
   "language": "python",
   "name": "python3"
  },
  "language_info": {
   "codemirror_mode": {
    "name": "ipython",
    "version": 3
   },
   "file_extension": ".py",
   "mimetype": "text/x-python",
   "name": "python",
   "nbconvert_exporter": "python",
   "pygments_lexer": "ipython3",
   "version": "3.10.11"
  }
 },
 "nbformat": 4,
 "nbformat_minor": 2
}
